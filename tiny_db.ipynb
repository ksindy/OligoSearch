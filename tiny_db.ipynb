{
 "cells": [
  {
   "cell_type": "markdown",
   "metadata": {
    "nbpresent": {
     "id": "0308c1aa-4b12-4ae7-8694-002f7249106f"
    },
    "slideshow": {
     "slide_type": "slide"
    }
   },
   "source": [
    "# Speeding up an Alignment Algorithm. "
   ]
  },
  {
   "cell_type": "markdown",
   "metadata": {
    "slideshow": {
     "slide_type": "fragment"
    }
   },
   "source": [
    "## TinyDB ftw!"
   ]
  },
  {
   "cell_type": "markdown",
   "metadata": {
    "nbpresent": {
     "id": "afc28f64-1d7a-47cd-bf4d-ba9d1450cc5b"
    },
    "slideshow": {
     "slide_type": "skip"
    }
   },
   "source": [
    "---"
   ]
  },
  {
   "cell_type": "markdown",
   "metadata": {
    "nbpresent": {
     "id": "f32d953f-dfc3-4cf2-90b3-0d477873ad3f"
    },
    "slideshow": {
     "slide_type": "slide"
    }
   },
   "source": [
    "### An example of an alignment:\n",
    "\n",
    "### Does the pattern \"cac\" occur in the following sequence?\n",
    "\n",
    "### cactaagcacacagagaata"
   ]
  },
  {
   "cell_type": "markdown",
   "metadata": {
    "nbpresent": {
     "id": "1135acd8-a0c9-4882-8f86-e4e5b8662b3c"
    },
    "slideshow": {
     "slide_type": "fragment"
    }
   },
   "source": [
    "### yes!\n",
    "\n",
    "### *cac* taag *cacac* agagaata"
   ]
  },
  {
   "cell_type": "markdown",
   "metadata": {
    "nbpresent": {
     "id": "3fbb14cd-daa5-4e67-ad97-297187cd6f42"
    },
    "slideshow": {
     "slide_type": "skip"
    }
   },
   "source": [
    "---"
   ]
  },
  {
   "cell_type": "markdown",
   "metadata": {
    "nbpresent": {
     "id": "50d79813-43d0-4d51-9859-0c4cf84c1fbc"
    },
    "slideshow": {
     "slide_type": "slide"
    }
   },
   "source": [
    "### Here is a fast algroithm to determine if a pattern is found in a reference."
   ]
  },
  {
   "cell_type": "code",
   "execution_count": 1,
   "metadata": {
    "collapsed": true,
    "nbpresent": {
     "id": "df2dbe72-66e1-448b-9b1f-c6b8a4ab7fa4"
    },
    "slideshow": {
     "slide_type": "fragment"
    }
   },
   "outputs": [],
   "source": [
    "def find_in(reference, pattern):\n",
    "    if pattern in reference:\n",
    "        return \"Yes\""
   ]
  },
  {
   "cell_type": "code",
   "execution_count": 2,
   "metadata": {
    "collapsed": true,
    "nbpresent": {
     "id": "60e1bbc9-16ca-4b5c-b567-56fcaa4a3068"
    },
    "slideshow": {
     "slide_type": "fragment"
    }
   },
   "outputs": [],
   "source": [
    "reference = 'cactaagcacacagagaataatgtctagaatctgagtgccatgttatcaaattgtactgagactcttgcagtcacacaggct'\n",
    "pattern = 'cac'"
   ]
  },
  {
   "cell_type": "code",
   "execution_count": 3,
   "metadata": {
    "collapsed": false,
    "nbpresent": {
     "id": "67e4b4ee-e116-4152-bc28-b49790d5ff7a"
    },
    "slideshow": {
     "slide_type": "fragment"
    }
   },
   "outputs": [
    {
     "data": {
      "text/plain": [
       "'Yes'"
      ]
     },
     "execution_count": 3,
     "metadata": {},
     "output_type": "execute_result"
    }
   ],
   "source": [
    "find_in(reference, pattern)"
   ]
  },
  {
   "cell_type": "markdown",
   "metadata": {
    "nbpresent": {
     "id": "5dbd0c26-0a7a-490d-ba4b-41c7fa83bbb6"
    },
    "slideshow": {
     "slide_type": "fragment"
    }
   },
   "source": [
    "### Great! But this does not give us location information or allow us to perform fuzzy alignments. "
   ]
  },
  {
   "cell_type": "markdown",
   "metadata": {
    "slideshow": {
     "slide_type": "slide"
    }
   },
   "source": [
    "### This function iterates through the referene using a 'window' the same size as the pattern."
   ]
  },
  {
   "cell_type": "code",
   "execution_count": 43,
   "metadata": {
    "collapsed": true,
    "nbpresent": {
     "id": "5bde1aae-e3d6-452d-be7c-30f7ac1dba06"
    },
    "slideshow": {
     "slide_type": "fragment"
    }
   },
   "outputs": [],
   "source": [
    "def pattern_find(reference, pattern):\n",
    "    pattern_location = []  # Creates empty list to store location of alignments. \n",
    "    for i, base in enumerate(reference):\n",
    "        query_pattern = reference[i:i+len(pattern)]  # \"Window\" used for search.\n",
    "        if query_pattern == pattern:\n",
    "            pattern_location.append(i) \n",
    "    return(pattern_location)"
   ]
  },
  {
   "cell_type": "code",
   "execution_count": 5,
   "metadata": {
    "collapsed": false,
    "nbpresent": {
     "id": "b6335e95-976d-43d7-83ef-f0f1bba5afe5"
    },
    "slideshow": {
     "slide_type": "fragment"
    }
   },
   "outputs": [
    {
     "data": {
      "text/plain": [
       "[0, 7, 9, 72, 74]"
      ]
     },
     "execution_count": 5,
     "metadata": {},
     "output_type": "execute_result"
    }
   ],
   "source": [
    "pattern_find(reference, pattern)"
   ]
  },
  {
   "cell_type": "markdown",
   "metadata": {
    "nbpresent": {
     "id": "b8d78a3d-d070-4eb1-83c9-c97170c5995f"
    },
    "slideshow": {
     "slide_type": "fragment"
    }
   },
   "source": [
    "### This is slow when there are lots (hundreds) of patterns to be quered because it has to iterate step-wise through the reference for each pattern."
   ]
  },
  {
   "cell_type": "code",
   "execution_count": 65,
   "metadata": {
    "collapsed": true,
    "slideshow": {
     "slide_type": "fragment"
    }
   },
   "outputs": [],
   "source": [
    "pattern_list = ['acac','cag','ttat','agaa','ttatcaaatt', 'aaaa']"
   ]
  },
  {
   "cell_type": "code",
   "execution_count": 7,
   "metadata": {
    "collapsed": false,
    "slideshow": {
     "slide_type": "fragment"
    }
   },
   "outputs": [
    {
     "name": "stdout",
     "output_type": "stream",
     "text": [
      "acac [8, 73]\n",
      "cag [11, 68, 76]\n",
      "ttat [43]\n",
      "agaa [14, 26]\n",
      "ttatcaaatt [43]\n"
     ]
    }
   ],
   "source": [
    "for pattern in pattern_list:\n",
    "    print('{} {}'.format(pattern, pattern_find(reference, pattern)))"
   ]
  },
  {
   "cell_type": "code",
   "execution_count": 8,
   "metadata": {
    "collapsed": true,
    "slideshow": {
     "slide_type": "slide"
    }
   },
   "outputs": [],
   "source": [
    "from tinydb import TinyDB, Query\n",
    "import re\n",
    "import json"
   ]
  },
  {
   "cell_type": "code",
   "execution_count": 9,
   "metadata": {
    "collapsed": true,
    "nbpresent": {
     "id": "d71d3ced-acfc-4b7f-a6a4-c1d49be4f842"
    },
    "slideshow": {
     "slide_type": "fragment"
    }
   },
   "outputs": [],
   "source": [
    "db = TinyDB('/Users/ksindy/PycharmProjects/oligo_search_website/pratice_db.json')"
   ]
  },
  {
   "cell_type": "code",
   "execution_count": 62,
   "metadata": {
    "collapsed": false,
    "slideshow": {
     "slide_type": "fragment"
    }
   },
   "outputs": [],
   "source": [
    "def pattern_find_tinydb(pattern_list, reference):\n",
    "    \n",
    "    aligns = []  # Creates empty list to store alignments\n",
    "    pattern_length_list = []  # Creates empty list to store pattern lengths\n",
    "    \n",
    "    for pattern in pattern_list:  \n",
    "        if len(pattern) not in pattern_length_list:  \n",
    "            pattern_length_list.append(len(pattern))\n",
    "            \n",
    "        for i, nucleotide in enumerate(reference):  \n",
    "            ref_chunk = reference[i:i+len(pattern)]  \n",
    "            db.insert({'sequence': ref_chunk, 'index':i+1})  \n",
    "                \n",
    "        sequence_match = Query()\n",
    "        matches = db.search(sequence_match.sequence == pattern)\n",
    "        matches = json.dumps(matches)\n",
    "        locations = re.findall(r'\\d+', matches)\n",
    "        aligns.append('{} {}'.format(pattern, locations))\n",
    "        \n",
    "    return(aligns)"
   ]
  },
  {
   "cell_type": "code",
   "execution_count": 66,
   "metadata": {
    "collapsed": false,
    "slideshow": {
     "slide_type": "fragment"
    }
   },
   "outputs": [
    {
     "data": {
      "text/plain": [
       "[\"acac ['9', '74']\",\n",
       " \"cag ['12', '69', '77']\",\n",
       " \"ttat ['44', '44']\",\n",
       " \"agaa ['15', '27', '15', '27', '15', '27']\",\n",
       " \"ttatcaaatt ['44']\",\n",
       " 'aaaa []']"
      ]
     },
     "execution_count": 66,
     "metadata": {},
     "output_type": "execute_result"
    }
   ],
   "source": [
    "pattern_find_tinydb(pattern_list, reference)"
   ]
  },
  {
   "cell_type": "code",
   "execution_count": 67,
   "metadata": {
    "collapsed": true,
    "slideshow": {
     "slide_type": "fragment"
    }
   },
   "outputs": [],
   "source": [
    "db.purge()"
   ]
  },
  {
   "cell_type": "code",
   "execution_count": 105,
   "metadata": {
    "collapsed": false,
    "slideshow": {
     "slide_type": "slide"
    }
   },
   "outputs": [
    {
     "ename": "IndentationError",
     "evalue": "unexpected indent (<ipython-input-105-55f715084728>, line 28)",
     "output_type": "error",
     "traceback": [
      "\u001b[0;36m  File \u001b[0;32m\"<ipython-input-105-55f715084728>\"\u001b[0;36m, line \u001b[0;32m28\u001b[0m\n\u001b[0;31m    for i, nucleotide in enumerate(reference):\u001b[0m\n\u001b[0m    ^\u001b[0m\n\u001b[0;31mIndentationError\u001b[0m\u001b[0;31m:\u001b[0m unexpected indent\n"
     ]
    }
   ],
   "source": [
    "def pattern_find_tinydb(pattern_list, reference):\n",
    "    \n",
    "    aligns = []  # Creates empty list to store alignments\n",
    "    pattern_length_list = []  # Creates empty list to store pattern lengths\n",
    "\n",
    "    for pattern in pattern_list:  \n",
    "        \n",
    "        '''\n",
    "        DETERMINE LENGTH OF PATTERN\n",
    "        Do not need to add to db if pattern length already seen\n",
    "        '''\n",
    "        \n",
    "        if len(pattern) not in pattern_length_list:  \n",
    "            pattern_length_list.append(len(pattern))\n",
    "            \n",
    "        '''\n",
    "        ADD REFERENCE TO DATABASE\n",
    "        Splits reference into pattern length chunks and adds to the db \n",
    "        along with location (i).\n",
    "        [{'sequence': 'cact', 'index': 1}]\n",
    "        [{'sequence': 'cact', 'index': 1}, {'sequence': 'acta', 'index': 2}]\n",
    "        ...\n",
    "        [{'sequence': 'cac', 'index': 1}]\n",
    "        [{'sequence': 'cac', 'index': 1}, {'sequence': 'act', 'index': 2}]\n",
    "\n",
    "        '''\n",
    "\n",
    "            for i, nucleotide in enumerate(reference):  \n",
    "                ref_chunk = reference[i:i+len(pattern)]  \n",
    "                db.insert({'sequence': ref_chunk, 'index':i+1}) \n",
    "\n",
    "            '''\n",
    "            FIND ALIGNMENTS\n",
    "            [{\"sequence\": \"acac\", \"index\": 9}, {\"sequence\": \"acac\", \"index\": 74}]\n",
    "            [{\"sequence\": \"cag\", \"index\": 12}, {\"sequence\": \"cag\", \"index\": 69}...\n",
    "            [{\"sequence\": \"ttat\", \"index\": 44}]\n",
    "            [{\"sequence\": \"agaa\", \"index\": 15}, {\"sequence\": \"agaa\", \"index\": 27}]\n",
    "            [{\"sequence\": \"ttatcaaatt\", \"index\": 44}]\n",
    "            '''\n",
    "        sequence_match = Query()\n",
    "        matches = db.search(sequence_match.sequence == pattern)  # bit-like object\n",
    "        matches = json.dumps(matches)  # Dumps json to python dict, in this case to string\n",
    "        locations = re.findall(r'\\d+', matches)\n",
    "        print(matches)\n",
    "        aligns.append('{} {}'.format(pattern, locations))\n",
    "    return(aligns)"
   ]
  },
  {
   "cell_type": "code",
   "execution_count": 366,
   "metadata": {
    "collapsed": false
   },
   "outputs": [],
   "source": [
    "final_list = []\n",
    "working_list = []\n",
    "\n",
    "def neighbors(pattern, mismatch_num):\n",
    "    nucleotides = 'ACGT'\n",
    "    current_list = []\n",
    "    final_list = [] # this will mess up the recursive algorithm if more than 1 mismatch\n",
    "\n",
    "#     for pattern in list:\n",
    "    pattern_whole = ''\n",
    "    final_list.append(pattern)\n",
    "    for index, nucleotide in enumerate(pattern):\n",
    "        rest = pattern[(index+1)::]\n",
    "\n",
    "        for i, nuc in enumerate(nucleotides):\n",
    "            working_pattern = ''\n",
    "            working_pattern += pattern_whole\n",
    "            working_pattern += nuc\n",
    "            working_pattern += rest\n",
    "\n",
    "            if working_pattern not in final_list:\n",
    "                final_list.append(working_pattern)\n",
    "                current_list.append(working_pattern)\n",
    "        pattern_whole += nucleotide\n",
    "\n",
    "    if mismatch_num > 1:\n",
    "        for item in current_list:\n",
    "            working_list.append(item)\n",
    "        return neighbors(working_list, mismatch_num-1)\n",
    "    else:\n",
    "        #return 'this is result{}'.format(\"\\n\".join(final_list))\n",
    "        return final_list\n",
    "final_list = []\n",
    "working_list = []"
   ]
  },
  {
   "cell_type": "code",
   "execution_count": 367,
   "metadata": {
    "collapsed": false
   },
   "outputs": [
    {
     "name": "stdout",
     "output_type": "stream",
     "text": [
      "['CACT', 'AACT', 'GACT', 'TACT', 'CCCT', 'CGCT', 'CTCT', 'CAAT', 'CAGT', 'CATT', 'CACA', 'CACC', 'CACG']\n"
     ]
    }
   ],
   "source": [
    "print(neighbors('CACT', 1))"
   ]
  },
  {
   "cell_type": "code",
   "execution_count": 371,
   "metadata": {
    "collapsed": false
   },
   "outputs": [],
   "source": [
    "def pattern_find_tinydb(pattern_list, reference, mismatch_num):\n",
    "    \n",
    "    aligns = []  # Creates empty list to store alignments\n",
    "    pattern_length_list = []  # Creates empty list to store pattern lengths\n",
    "    reference_upper = reference.upper().replace(' ','')\n",
    "    reference_clean = re.sub('[^A-Z]+', '', reference_upper)\n",
    "    \n",
    "    for pattern in pattern_list:  \n",
    "        string_upper = pattern.upper().replace(' ','')  # Removes whitespace, converts to caps.\n",
    "        string_clean = re.sub('[^A-Z]+', '', string_upper)  # Uses a regex to remove char not a A-Z.\n",
    "        #print(string_clean)\n",
    "        \n",
    "        if len(pattern) not in pattern_length_list:  \n",
    "            pattern_length_list.append(len(pattern))\n",
    "            \n",
    "            for i, nucleotide in enumerate(reference_clean):  \n",
    "                ref_chunk = reference_clean[i:i+len(pattern)]  \n",
    "                db.insert({'sequence': ref_chunk, 'index':i+1})  \n",
    "        aligns.append(pattern)     \n",
    "        all_matches = ''\n",
    "        for neighbor in neighbors(string_clean, mismatch_num):\n",
    "            matches = db.search(Query().sequence == neighbor)\n",
    "            matches = json.dumps(matches)    \n",
    "            all_matches += matches\n",
    "        locations = re.findall(r'\\d+', all_matches)\n",
    "        list1 = [int(x) for x in locations]\n",
    "        list1.sort()\n",
    "        aligns.append(list1)\n",
    "    return(aligns)"
   ]
  },
  {
   "cell_type": "code",
   "execution_count": 372,
   "metadata": {
    "collapsed": true
   },
   "outputs": [],
   "source": [
    "db.purge()\n",
    "final_list = []\n",
    "working_list = []\n"
   ]
  },
  {
   "cell_type": "code",
   "execution_count": 373,
   "metadata": {
    "collapsed": false
   },
   "outputs": [
    {
     "name": "stdout",
     "output_type": "stream",
     "text": [
      "['acac', [7, 9, 11, 60, 62, 72, 74, 76], 'cag', [1, 5, 8, 10, 12, 14, 26, 32, 34, 40, 48, 57, 59, 69, 73, 75, 77], 'ttat', [19, 44, 52], 'agaa', [6, 13, 15, 18, 27, 60], 'ttatcaaatt', [44], 'aaaa', [15, 17, 18, 27, 48, 49]]\n"
     ]
    }
   ],
   "source": [
    "print(pattern_find_tinydb(pattern_list, reference, 1))\n",
    "#cactaagcacacagagaataatgtctagaatctgagtgccatgttatcaaattgtactgagactcttgcagtcacacaggct"
   ]
  },
  {
   "cell_type": "code",
   "execution_count": 317,
   "metadata": {
    "collapsed": true,
    "slideshow": {
     "slide_type": "slide"
    }
   },
   "outputs": [],
   "source": [
    "def mismatch(string1, string2):\n",
    "    mismatches = 0\n",
    "    for (nucleotide1, nucleotide2) in zip(string1, string2):\n",
    "        if nucleotide1 != nucleotide2:\n",
    "            mismatches += 1\n",
    "    return(mismatches)"
   ]
  },
  {
   "cell_type": "code",
   "execution_count": 374,
   "metadata": {
    "collapsed": false,
    "nbpresent": {
     "id": "79737bba-0156-435f-bf92-5168ea3a4afa"
    },
    "slideshow": {
     "slide_type": "slide"
    }
   },
   "outputs": [],
   "source": [
    "def approximate_patterns(text, pattern_list, max_mismatches):\n",
    "    reference_upper = reference.upper().replace(' ','')\n",
    "    reference_clean = re.sub('[^A-Z]+', '', reference_upper)\n",
    "    \n",
    "    pattern_matches = []\n",
    "    \n",
    "    for pattern in pattern_list:\n",
    "        pattern_matches.append(pattern)\n",
    "        for i, base in enumerate(text):\n",
    "            query_pattern = text[i:i+len(pattern)]\n",
    "            if mismatch(pattern, query_pattern) <= max_mismatches:\n",
    "                pattern_matches.append(i+1)\n",
    "    return(pattern_matches)\n",
    "#print(approximate_patterns(text, pattern, max_mismatch))\n"
   ]
  },
  {
   "cell_type": "code",
   "execution_count": 375,
   "metadata": {
    "collapsed": false
   },
   "outputs": [
    {
     "name": "stdout",
     "output_type": "stream",
     "text": [
      "['acac', 7, 9, 11, 60, 62, 72, 74, 76, 82, 'cag', 1, 5, 8, 10, 12, 14, 26, 32, 34, 40, 48, 57, 59, 69, 73, 75, 77, 81, 82, 'ttat', 19, 44, 52, 81, 82, 'agaa', 6, 13, 15, 18, 27, 60, 82, 'ttatcaaatt', 44, 81, 82, 'aaaa', 15, 17, 18, 27, 48, 49, 82]\n"
     ]
    }
   ],
   "source": [
    "print(approximate_patterns(reference, pattern_list, 1))"
   ]
  },
  {
   "cell_type": "code",
   "execution_count": null,
   "metadata": {
    "collapsed": true,
    "nbpresent": {
     "id": "46369960-9a5c-402f-a079-0ae83001e143"
    }
   },
   "outputs": [],
   "source": [
    "from tinydb import TinyDB, Query\n",
    "import re\n",
    "import json\n",
    "import re"
   ]
  },
  {
   "cell_type": "code",
   "execution_count": 17,
   "metadata": {
    "collapsed": false,
    "nbpresent": {
     "id": "5ff58084-9a57-4292-acd3-cb453482475e"
    }
   },
   "outputs": [],
   "source": [
    "reference = 'cactaagcacacagagaataatgtctagaatctgagtgccatgttatcaaattgtactgagactcttgcagtcacacaggct'\n",
    "pattern_list = ['acac','cag', 'gtctagaat', '']\n",
    "pattern_list_2 = ['*BIOTIN*-ACAC', 'TGTC', 'aaa', 'act gag act ctt gc']\n",
    "pattern_length_list = []"
   ]
  },
  {
   "cell_type": "code",
   "execution_count": 19,
   "metadata": {
    "collapsed": false,
    "nbpresent": {
     "id": "0753d581-2842-4591-a43a-4c51b2822380"
    }
   },
   "outputs": [
    {
     "name": "stdout",
     "output_type": "stream",
     "text": [
      "[{'index': 9, 'sequence': 'acac'}, {'index': 74, 'sequence': 'acac'}]\n",
      "[{'index': 12, 'sequence': 'cag'}, {'index': 69, 'sequence': 'cag'}, {'index': 77, 'sequence': 'cag'}]\n"
     ]
    }
   ],
   "source": [
    "for pattern in pattern_list:\n",
    "    pattern_length = len(pattern)\n",
    "    if pattern_length not in pattern_length_list:\n",
    "        pattern_length_list.append(len(pattern))\n",
    "        for i, nucleotide in enumerate(reference):\n",
    "            ref_chunk = reference[i:i+pattern_length]\n",
    "            db.insert({'sequence': ref_chunk, 'index':i+1})\n",
    "            #+1 because of 0 indexing. This will give teh actual start site of the pattern.\n",
    "    sequence_match = Query()\n",
    "    print(db.search(sequence_match.sequence==pattern))"
   ]
  },
  {
   "cell_type": "code",
   "execution_count": 55,
   "metadata": {
    "collapsed": false,
    "nbpresent": {
     "id": "ca44b925-9b08-40c6-bfa8-46f0853c5d89"
    }
   },
   "outputs": [
    {
     "ename": "NameError",
     "evalue": "name 'pattern_length_list' is not defined",
     "output_type": "error",
     "traceback": [
      "\u001b[0;31m---------------------------------------------------------------------------\u001b[0m",
      "\u001b[0;31mNameError\u001b[0m                                 Traceback (most recent call last)",
      "\u001b[0;32m<ipython-input-55-e5d184f160e6>\u001b[0m in \u001b[0;36m<module>\u001b[0;34m()\u001b[0m\n\u001b[1;32m     21\u001b[0m         \u001b[0;31m#matching_dict.add(db.search(sequence_match.sequence==pattern))\u001b[0m\u001b[0;34m\u001b[0m\u001b[0;34m\u001b[0m\u001b[0m\n\u001b[1;32m     22\u001b[0m     \u001b[0;32mreturn\u001b[0m\u001b[0;34m(\u001b[0m\u001b[0mmatching\u001b[0m\u001b[0;34m)\u001b[0m\u001b[0;34m\u001b[0m\u001b[0m\n\u001b[0;32m---> 23\u001b[0;31m \u001b[0mprint\u001b[0m\u001b[0;34m(\u001b[0m\u001b[0mpattern_find_tinydb\u001b[0m\u001b[0;34m(\u001b[0m\u001b[0mpattern_list\u001b[0m\u001b[0;34m,\u001b[0m \u001b[0mreference\u001b[0m\u001b[0;34m)\u001b[0m\u001b[0;34m)\u001b[0m\u001b[0;34m\u001b[0m\u001b[0m\n\u001b[0m",
      "\u001b[0;32m<ipython-input-55-e5d184f160e6>\u001b[0m in \u001b[0;36mpattern_find_tinydb\u001b[0;34m(pattern_list, reference)\u001b[0m\n\u001b[1;32m      4\u001b[0m     \u001b[0;32mfor\u001b[0m \u001b[0mpattern\u001b[0m \u001b[0;32min\u001b[0m \u001b[0mpattern_list\u001b[0m\u001b[0;34m:\u001b[0m\u001b[0;34m\u001b[0m\u001b[0m\n\u001b[1;32m      5\u001b[0m         \u001b[0mpattern_length\u001b[0m \u001b[0;34m=\u001b[0m \u001b[0mlen\u001b[0m\u001b[0;34m(\u001b[0m\u001b[0mpattern\u001b[0m\u001b[0;34m)\u001b[0m\u001b[0;34m\u001b[0m\u001b[0m\n\u001b[0;32m----> 6\u001b[0;31m         \u001b[0;32mif\u001b[0m \u001b[0mpattern_length\u001b[0m \u001b[0;32mnot\u001b[0m \u001b[0;32min\u001b[0m \u001b[0mpattern_length_list\u001b[0m\u001b[0;34m:\u001b[0m\u001b[0;34m\u001b[0m\u001b[0m\n\u001b[0m\u001b[1;32m      7\u001b[0m             \u001b[0mpattern_length_list\u001b[0m\u001b[0;34m.\u001b[0m\u001b[0mappend\u001b[0m\u001b[0;34m(\u001b[0m\u001b[0mlen\u001b[0m\u001b[0;34m(\u001b[0m\u001b[0mpattern\u001b[0m\u001b[0;34m)\u001b[0m\u001b[0;34m)\u001b[0m\u001b[0;34m\u001b[0m\u001b[0m\n\u001b[1;32m      8\u001b[0m             \u001b[0;32mfor\u001b[0m \u001b[0mi\u001b[0m\u001b[0;34m,\u001b[0m \u001b[0mnucleotide\u001b[0m \u001b[0;32min\u001b[0m \u001b[0menumerate\u001b[0m\u001b[0;34m(\u001b[0m\u001b[0mreference\u001b[0m\u001b[0;34m)\u001b[0m\u001b[0;34m:\u001b[0m\u001b[0;34m\u001b[0m\u001b[0m\n",
      "\u001b[0;31mNameError\u001b[0m: name 'pattern_length_list' is not defined"
     ]
    }
   ],
   "source": [
    "def pattern_find_tinydb(pattern_list, reference):\n",
    "    matching = ''\n",
    "    #matching_dict = {}\n",
    "    for pattern in pattern_list:\n",
    "        pattern_length = len(pattern)\n",
    "        if pattern_length not in pattern_length_list:\n",
    "            pattern_length_list.append(len(pattern))\n",
    "            for i, nucleotide in enumerate(reference):\n",
    "                ref_chunk = reference[i:i+pattern_length]\n",
    "                db.insert({'sequence': ref_chunk, 'index':i+1})\n",
    "                #+1 because of 0 indexing. This will give teh actual start site of the pattern.\n",
    "        sequence_match = Query()\n",
    "        matches = db.search(sequence_match.sequence==pattern)\n",
    "        matches = json.dumps(matches)\n",
    "        #print(matches)\n",
    "        locations = re.findall(r'\\d+', matches)\n",
    "        #print(type(locations))\n",
    "        #print([int(loc) for loc in matches.split(\" \") if loc.isdigit()])\n",
    "        #print(\"{} is found at {}\".format(pattern, locations))\n",
    "        #matching += str((db.search(sequence_match.sequence==pattern)))\n",
    "        #matching_dict.add(db.search(sequence_match.sequence==pattern))\n",
    "    return(matching)\n",
    "print(pattern_find_tinydb(pattern_list, reference))"
   ]
  },
  {
   "cell_type": "code",
   "execution_count": 23,
   "metadata": {
    "collapsed": true,
    "nbpresent": {
     "id": "ae352389-7eb9-489f-8c7e-630c4e2e3cd5"
    }
   },
   "outputs": [],
   "source": [
    "def pattern_find_in(pattern_list, refernece):\n",
    "    pattern_match = []\n",
    "    for pattern in pattern_list:\n",
    "        if pattern in reference:\n",
    "            pattern_match.append(pattern)\n",
    "    return(pattern_match)"
   ]
  },
  {
   "cell_type": "code",
   "execution_count": 24,
   "metadata": {
    "collapsed": true,
    "nbpresent": {
     "id": "87281c68-69df-40f8-90db-7771fd9fc69a"
    }
   },
   "outputs": [],
   "source": [
    "from timeit import timeit"
   ]
  },
  {
   "cell_type": "code",
   "execution_count": 25,
   "metadata": {
    "collapsed": false,
    "nbpresent": {
     "id": "204fc518-dc5a-4c27-a122-f293231a05a5"
    }
   },
   "outputs": [
    {
     "name": "stdout",
     "output_type": "stream",
     "text": [
      "\n"
     ]
    }
   ],
   "source": [
    "print(pattern_find_tinydb(pattern_list, reference))\n",
    "print (\"pattern_find_tinydb:{}\".format(timeit(\n",
    "                                    \"pattern_find_tinydb(pattern_list, reference)\",\n",
    "                                    \"from __main__ import pattern_find_tinydb;\"\n",
    "                                    \"reference='cactaagcacacagagaataatgtctagaatctgagtgccatgttatcaaattgtactgagactcttgcagtcacacaggct';\" \n",
    "                                    \"pattern_list=['acac','cag'] \"\n",
    "                                    , number=100000)))\n",
    "\n",
    "print(pattern_find_in(pattern_list, reference))\n",
    "print (\"pattern_find_in:{}\".format(timeit(\n",
    "                                    \"pattern_find_in(pattern_list, reference)\",\n",
    "                                    \"from __main__ import pattern_find_in;\"\n",
    "                                    \"reference='cactaagcacacagagaataatgtctagaatctgagtgccatgttatcaaattgtactgagactcttgcagtcacacaggct';\" \n",
    "                                    \"pattern_list=['acac','cag'] \"\n",
    "                                    , number=100000)))\n",
    "\n",
    "print(approximate_patterns(reference, pattern_list, 0))\n",
    "print (\"approximate_patterns:{}\".format(timeit(\n",
    "                                    \"approximate_patterns(reference, pattern_list, 0)\",\n",
    "                                    \"from __main__ import approximate_patterns;\"\n",
    "                                    \"reference='cactaagcacacagagaataatgtctagaatctgagtgccatgttatcaaattgtactgagactcttgcagtcacacaggct';\" \n",
    "                                    \"pattern_list=['acac','cag'] \"\n",
    "                                    , number=100000)))"
   ]
  },
  {
   "cell_type": "code",
   "execution_count": 34,
   "metadata": {
    "collapsed": false,
    "nbpresent": {
     "id": "780980fa-1e39-4539-afee-e1662803bcf5"
    }
   },
   "outputs": [
    {
     "name": "stdout",
     "output_type": "stream",
     "text": [
      "[4]\n",
      "[{'index': 1, 'sequence': 'cact'}, {'index': 2, 'sequence': 'acta'}, {'index': 3, 'sequence': 'ctaa'}, {'index': 4, 'sequence': 'taag'}, {'index': 5, 'sequence': 'aagc'}, {'index': 6, 'sequence': 'agca'}, {'index': 7, 'sequence': 'gcac'}, {'index': 8, 'sequence': 'caca'}, {'index': 9, 'sequence': 'acac'}, {'index': 10, 'sequence': 'caca'}, {'index': 11, 'sequence': 'acag'}, {'index': 12, 'sequence': 'caga'}, {'index': 13, 'sequence': 'agag'}, {'index': 14, 'sequence': 'gaga'}, {'index': 15, 'sequence': 'agaa'}, {'index': 16, 'sequence': 'gaat'}, {'index': 17, 'sequence': 'aata'}, {'index': 18, 'sequence': 'ataa'}, {'index': 19, 'sequence': 'taat'}, {'index': 20, 'sequence': 'aatg'}, {'index': 21, 'sequence': 'atgt'}, {'index': 22, 'sequence': 'tgtc'}, {'index': 23, 'sequence': 'gtct'}, {'index': 24, 'sequence': 'tcta'}, {'index': 25, 'sequence': 'ctag'}, {'index': 26, 'sequence': 'taga'}, {'index': 27, 'sequence': 'agaa'}, {'index': 28, 'sequence': 'gaat'}, {'index': 29, 'sequence': 'aatc'}, {'index': 30, 'sequence': 'atct'}, {'index': 31, 'sequence': 'tctg'}, {'index': 32, 'sequence': 'ctga'}, {'index': 33, 'sequence': 'tgag'}, {'index': 34, 'sequence': 'gagt'}, {'index': 35, 'sequence': 'agtg'}, {'index': 36, 'sequence': 'gtgc'}, {'index': 37, 'sequence': 'tgcc'}, {'index': 38, 'sequence': 'gcca'}, {'index': 39, 'sequence': 'ccat'}, {'index': 40, 'sequence': 'catg'}, {'index': 41, 'sequence': 'atgt'}, {'index': 42, 'sequence': 'tgtt'}, {'index': 43, 'sequence': 'gtta'}, {'index': 44, 'sequence': 'ttat'}, {'index': 45, 'sequence': 'tatc'}, {'index': 46, 'sequence': 'atca'}, {'index': 47, 'sequence': 'tcaa'}, {'index': 48, 'sequence': 'caaa'}, {'index': 49, 'sequence': 'aaat'}, {'index': 50, 'sequence': 'aatt'}, {'index': 51, 'sequence': 'attg'}, {'index': 52, 'sequence': 'ttgt'}, {'index': 53, 'sequence': 'tgta'}, {'index': 54, 'sequence': 'gtac'}, {'index': 55, 'sequence': 'tact'}, {'index': 56, 'sequence': 'actg'}, {'index': 57, 'sequence': 'ctga'}, {'index': 58, 'sequence': 'tgag'}, {'index': 59, 'sequence': 'gaga'}, {'index': 60, 'sequence': 'agac'}, {'index': 61, 'sequence': 'gact'}, {'index': 62, 'sequence': 'actc'}, {'index': 63, 'sequence': 'ctct'}, {'index': 64, 'sequence': 'tctt'}, {'index': 65, 'sequence': 'cttg'}, {'index': 66, 'sequence': 'ttgc'}, {'index': 67, 'sequence': 'tgca'}, {'index': 68, 'sequence': 'gcag'}, {'index': 69, 'sequence': 'cagt'}, {'index': 70, 'sequence': 'agtc'}, {'index': 71, 'sequence': 'gtca'}, {'index': 72, 'sequence': 'tcac'}, {'index': 73, 'sequence': 'caca'}, {'index': 74, 'sequence': 'acac'}, {'index': 75, 'sequence': 'caca'}, {'index': 76, 'sequence': 'acag'}, {'index': 77, 'sequence': 'cagg'}, {'index': 78, 'sequence': 'aggc'}, {'index': 79, 'sequence': 'ggct'}, {'index': 80, 'sequence': 'gct'}, {'index': 81, 'sequence': 'ct'}, {'index': 82, 'sequence': 't'}]\n"
     ]
    }
   ],
   "source": [
    "print(pattern_length_list)\n",
    "print(db.all())"
   ]
  },
  {
   "cell_type": "code",
   "execution_count": 15,
   "metadata": {
    "collapsed": false,
    "nbpresent": {
     "id": "f20f41fd-c3f0-4b4a-89d3-f20ffaef2647"
    }
   },
   "outputs": [
    {
     "name": "stdout",
     "output_type": "stream",
     "text": [
      "[]\n"
     ]
    }
   ],
   "source": [
    "db.purge()\n",
    "pattern_length_list = []\n",
    "print(db.all())"
   ]
  },
  {
   "cell_type": "code",
   "execution_count": 41,
   "metadata": {
    "collapsed": false,
    "nbpresent": {
     "id": "16b6890c-a300-4124-a4ab-f6313e15b9f3"
    }
   },
   "outputs": [],
   "source": [
    "# def reference_dict(pattern_length, reference):\n",
    "#     for i, nucleotide in enumerate(reference):\n",
    "#         query = reference[i:i+pattern_length]\n",
    "#         query_number = pattern_to_number(query)\n",
    "#         if len(query) == pattern_length and query not in query_dict:\n",
    "#             query_dict[query]=str(i+1)+','\n",
    "#             #+1 because of 0 indexing. This will give teh actual start site of the pattern.\n",
    "#         elif len(query) == pattern_length:\n",
    "#             query_dict[query]+=str(i+1)+','\n",
    "            \n",
    "#     db.insert(query_dict)\n",
    "#     return (db.all())"
   ]
  },
  {
   "cell_type": "code",
   "execution_count": 42,
   "metadata": {
    "collapsed": true,
    "nbpresent": {
     "id": "5a421e7d-4e4c-4122-9e74-2869053c8640"
    }
   },
   "outputs": [],
   "source": [
    "def symbol_to_number(symbol):\n",
    "    dict_symbol = {'A':0, 'C':1, 'G':2, 'T':3}\n",
    "    return dict_symbol[symbol]\n",
    "\n",
    "def pattern_to_number(pattern):\n",
    "    pattern = pattern.upper().replace(\" \",\"\")\n",
    "    regex = re.compile('[^agctuAGCTU]')\n",
    "    pattern = regex.sub('', pattern)\n",
    "    if not pattern:\n",
    "        return 0\n",
    "    symbol = pattern[-1]\n",
    "    prefix = pattern[0:-1]\n",
    "    return 4*pattern_to_number(prefix) + symbol_to_number(symbol)"
   ]
  },
  {
   "cell_type": "code",
   "execution_count": null,
   "metadata": {
    "collapsed": true,
    "nbpresent": {
     "id": "36a4ad4c-91f5-43da-b7a9-fa15bd044e2b"
    }
   },
   "outputs": [],
   "source": []
  },
  {
   "cell_type": "code",
   "execution_count": null,
   "metadata": {
    "collapsed": true,
    "nbpresent": {
     "id": "cb3732a6-624b-44ad-a8d2-665c1d3d854c"
    }
   },
   "outputs": [],
   "source": []
  },
  {
   "cell_type": "code",
   "execution_count": null,
   "metadata": {
    "collapsed": true,
    "nbpresent": {
     "id": "5ebb90cb-5c8e-4066-9d27-e2bdc06f8fe1"
    }
   },
   "outputs": [],
   "source": []
  }
 ],
 "metadata": {
  "anaconda-cloud": {},
  "celltoolbar": "Slideshow",
  "kernelspec": {
   "display_name": "Python [nov2016]",
   "language": "python",
   "name": "Python [nov2016]"
  },
  "language_info": {
   "codemirror_mode": {
    "name": "ipython",
    "version": 3
   },
   "file_extension": ".py",
   "mimetype": "text/x-python",
   "name": "python",
   "nbconvert_exporter": "python",
   "pygments_lexer": "ipython3",
   "version": "3.5.2"
  }
 },
 "nbformat": 4,
 "nbformat_minor": 0
}
