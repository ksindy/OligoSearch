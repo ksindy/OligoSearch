{
 "cells": [
  {
   "cell_type": "markdown",
   "metadata": {
    "nbpresent": {
     "id": "0308c1aa-4b12-4ae7-8694-002f7249106f"
    },
    "slideshow": {
     "slide_type": "slide"
    }
   },
   "source": [
    "# The Problem:"
   ]
  },
  {
   "cell_type": "markdown",
   "metadata": {
    "slideshow": {
     "slide_type": "fragment"
    }
   },
   "source": [
    "## How to locate specific patterns in a reference allowing for fuzzy searches...as fast as possible!"
   ]
  },
  {
   "cell_type": "markdown",
   "metadata": {
    "nbpresent": {
     "id": "afc28f64-1d7a-47cd-bf4d-ba9d1450cc5b"
    },
    "slideshow": {
     "slide_type": "skip"
    }
   },
   "source": [
    "---"
   ]
  },
  {
   "cell_type": "markdown",
   "metadata": {
    "nbpresent": {
     "id": "f32d953f-dfc3-4cf2-90b3-0d477873ad3f"
    },
    "slideshow": {
     "slide_type": "slide"
    }
   },
   "source": [
    "### An example of an alignment:\n",
    "\n",
    "### Does the pattern \"cac\" occur in the following sequence?\n",
    "\n",
    "### cactaagcacacagagaata"
   ]
  },
  {
   "cell_type": "markdown",
   "metadata": {
    "nbpresent": {
     "id": "1135acd8-a0c9-4882-8f86-e4e5b8662b3c"
    },
    "slideshow": {
     "slide_type": "fragment"
    }
   },
   "source": [
    "### yes!\n",
    "\n",
    "### *cac* taag *cacac* agagaata"
   ]
  },
  {
   "cell_type": "markdown",
   "metadata": {
    "nbpresent": {
     "id": "3fbb14cd-daa5-4e67-ad97-297187cd6f42"
    },
    "slideshow": {
     "slide_type": "skip"
    }
   },
   "source": [
    "---"
   ]
  },
  {
   "cell_type": "markdown",
   "metadata": {
    "nbpresent": {
     "id": "50d79813-43d0-4d51-9859-0c4cf84c1fbc"
    },
    "slideshow": {
     "slide_type": "slide"
    }
   },
   "source": [
    "### Here is a fast algroithm to determine if a pattern is found in a reference."
   ]
  },
  {
   "cell_type": "code",
   "execution_count": 244,
   "metadata": {
    "collapsed": true,
    "nbpresent": {
     "id": "df2dbe72-66e1-448b-9b1f-c6b8a4ab7fa4"
    },
    "slideshow": {
     "slide_type": "fragment"
    }
   },
   "outputs": [],
   "source": [
    "def find_in(reference, pattern):\n",
    "    if pattern in reference:\n",
    "        return \"Yes\""
   ]
  },
  {
   "cell_type": "code",
   "execution_count": 245,
   "metadata": {
    "collapsed": true,
    "nbpresent": {
     "id": "60e1bbc9-16ca-4b5c-b567-56fcaa4a3068"
    },
    "slideshow": {
     "slide_type": "fragment"
    }
   },
   "outputs": [],
   "source": [
    "reference = 'cactaagcacacagagaataatgtctagaatctgagtgccatgttatcaaattgtactgagactcttgcagtcacacag'\n",
    "pattern = 'cac'"
   ]
  },
  {
   "cell_type": "code",
   "execution_count": 246,
   "metadata": {
    "collapsed": false,
    "nbpresent": {
     "id": "67e4b4ee-e116-4152-bc28-b49790d5ff7a"
    },
    "slideshow": {
     "slide_type": "fragment"
    }
   },
   "outputs": [
    {
     "data": {
      "text/plain": [
       "'Yes'"
      ]
     },
     "execution_count": 246,
     "metadata": {},
     "output_type": "execute_result"
    }
   ],
   "source": [
    "find_in(reference, pattern)"
   ]
  },
  {
   "cell_type": "markdown",
   "metadata": {
    "nbpresent": {
     "id": "5dbd0c26-0a7a-490d-ba4b-41c7fa83bbb6"
    },
    "slideshow": {
     "slide_type": "fragment"
    }
   },
   "source": [
    "### Great! But this does not give us location information or allow us to perform fuzzy alignments. "
   ]
  },
  {
   "cell_type": "markdown",
   "metadata": {
    "slideshow": {
     "slide_type": "slide"
    }
   },
   "source": [
    "### This function iterates through the reference using a 'window' the same size as the pattern."
   ]
  },
  {
   "cell_type": "code",
   "execution_count": 247,
   "metadata": {
    "collapsed": true,
    "nbpresent": {
     "id": "5bde1aae-e3d6-452d-be7c-30f7ac1dba06"
    },
    "slideshow": {
     "slide_type": "fragment"
    }
   },
   "outputs": [],
   "source": [
    "def pattern_find(reference, pattern):\n",
    "    pattern_location = []  # Creates empty list to store location of alignments. \n",
    "    for i, base in enumerate(reference):\n",
    "        query_pattern = reference[i:i+len(pattern)]  # \"Window\" used for search.\n",
    "        if query_pattern == pattern:\n",
    "            pattern_location.append(i) \n",
    "    return(pattern_location)"
   ]
  },
  {
   "cell_type": "code",
   "execution_count": 248,
   "metadata": {
    "collapsed": false,
    "slideshow": {
     "slide_type": "fragment"
    }
   },
   "outputs": [
    {
     "data": {
      "text/plain": [
       "[0, 7, 9, 72, 74]"
      ]
     },
     "execution_count": 248,
     "metadata": {},
     "output_type": "execute_result"
    }
   ],
   "source": [
    "pattern_find(reference, pattern)"
   ]
  },
  {
   "cell_type": "markdown",
   "metadata": {
    "nbpresent": {
     "id": "b8d78a3d-d070-4eb1-83c9-c97170c5995f"
    },
    "slideshow": {
     "slide_type": "slide"
    }
   },
   "source": [
    "### Now let's try it on a list and time it."
   ]
  },
  {
   "cell_type": "code",
   "execution_count": 249,
   "metadata": {
    "collapsed": true,
    "slideshow": {
     "slide_type": "fragment"
    }
   },
   "outputs": [],
   "source": [
    "pattern_list = ['acac','cag','ttat','agaa','ttatcaaatt',]"
   ]
  },
  {
   "cell_type": "code",
   "execution_count": 250,
   "metadata": {
    "collapsed": false,
    "slideshow": {
     "slide_type": "fragment"
    }
   },
   "outputs": [],
   "source": [
    "import datetime"
   ]
  },
  {
   "cell_type": "code",
   "execution_count": 251,
   "metadata": {
    "collapsed": false,
    "slideshow": {
     "slide_type": "fragment"
    }
   },
   "outputs": [
    {
     "name": "stdout",
     "output_type": "stream",
     "text": [
      "acac [8, 73]\n",
      "cag [11, 68, 76]\n",
      "ttat [43]\n",
      "agaa [14, 26]\n",
      "ttatcaaatt [43]\n",
      "0:00:00.001400 pattern find\n"
     ]
    }
   ],
   "source": [
    "start = datetime.datetime.now()\n",
    "\n",
    "for pattern in pattern_list:\n",
    "    print('{} {}'.format(pattern, pattern_find(reference, pattern)))\n",
    "\n",
    "stop = datetime.datetime.now()\n",
    "pattern_find_duration = stop - start\n",
    "print('{} pattern find'.format(pattern_find_duration))\n"
   ]
  },
  {
   "cell_type": "markdown",
   "metadata": {
    "slideshow": {
     "slide_type": "fragment"
    }
   },
   "source": [
    "### Still looking good. How about some real data?"
   ]
  },
  {
   "cell_type": "markdown",
   "metadata": {
    "slideshow": {
     "slide_type": "slide"
    }
   },
   "source": [
    "### My oligonucleotides and a portion of the human genome from UCSC DAS database.\n",
    "#### http://genome.ucsc.edu/cgi-bin/das/hg19/dna?segment=chr12:53960000,53980000"
   ]
  },
  {
   "cell_type": "code",
   "execution_count": 252,
   "metadata": {
    "collapsed": true,
    "slideshow": {
     "slide_type": "fragment"
    }
   },
   "outputs": [],
   "source": [
    "pattern_list = ['CATGACCCCCCCCAAGAAGAAGCGCAAGGTGGAGGACGGAATGGACGCACAAACACGACG', 'TGGGGCCGCCGCCCACGGCGGGGGCGCCGCCGCCCAACTTGTTTGCAGCTTTCCATTGAGCTT', 'CATGACCCCCCCCAAGAAGAAGCGCAAGGTGGAGGACGGAATGGCTTCTAACTTTACTCAGTTCGTTC', 'TGGGGCCGCCGCCCACGGCGGGGGCGCCGCCGCCCAACTTGTAGATGCCGGAGTTTGCTG', 'ATGGACGCACAAACACGAC', 'ATGGCTTCTAACTTTACTCAGTTCGTT', 'TACTTGCATTTTTTCTAAACAC', 'ACTATAGGGAGACCCAAGCTGG', 'GAGGATTCTGACAGTGAAATATCAG', 'ATGTTTGGTGAGCCAAAAC', 'CATACTTACTTGGCTTGTTTGGGATAT', 'GCCTATGGCATTATTGTACGGA', 'TTACGCATAAACGATGACGTCA', 'AAGGCACAGTCGAGGC', 'GATCTGGGCCCTGAAGAAGGGCCCG', 'GATCCGGGCCCTTCTTCAGGGCCCA', 'ATGTTTGGTGAGCCAAAAC', 'CATGAGGGCCCTGAAGAAGGGCCCC', 'GATCCGGGCCCTTCTTCAGGGCCCA', 'GATCTGGGCCCTGAAGAAGGGCCCG', 'CTATCAGTGATAGAGAACGTATAAG', 'CAGAGGAGGGAAGAGAG', 'CTTCTTATCATCTCCATCTTTATGATG', 'CGTTCAGTGTCAGAAAATG', 'CATCTTGAGACACATGGG', 'GTGACATAATTGGACAAACTACC', 'GGGAGCTTGTATATCCATTTTCGGATCTGATCAGCACGTGATGACCGAGTACAAGCCCACG', 'CATAGAAGGCGGCGGTGGAATCGAAATCTCGTAGCACGTGTCAGGCACCGGGCTTGCGGG', 'TGCCTCTGAGCTATTCC', 'GCGCTGGAGGATCATC', 'AGCGGTTCCCGG', 'CCGCGCTGGAGGATCATCCA', 'GGGTCTGGGCAGCGCCGTCG', 'GGCGAAGAACTCCAGCATGAG', 'CATGGCGATGCCTGCTTGCCGA', 'GCAAGGAACGCCCGTCGTGGC', 'TCTCCGGGCCTTTCGACCTGCAGCCAATATGGGATCGGCCATGACCGAGTACAAGCCCAC', 'CAGTCGAGGCTGATCAGCGAGCTCTAGAGAATTGATCCCCTCAGGCACCGGGCTTGCGGG', 'TCCTCTTCCTCATCTCCGGGCCTTTCGACCTGCAGCCAATATGACCGAGTACAAGCCCAC', 'AATGATACGGCGACCACCGAGATCTACACTCTTTCCCTACACGACGCTCTTCCGATCTACGTTTACGCAGACTATCTTTCT', 'AATGATACGGCGACCACCGAGATCTACACTCTTTCCCTACACGACGCTCTTCCGATCTCTATTTACGCAGACTATCTTTCT', 'AATGATACGGCGACCACCGAGATCTACACTCTTTCCCTACACGACGCTCTTCCGATCTGATTTTACGCAGACTATCTTTCT', 'AATGATACGGCGACCACCGAGATCTACACTCTTTCCCTACACGACGCTCTTCCGATCTTGCTTTACGCAGACTATCTTTCT', 'CAAGCAGAAGACGGCATACGAGATCGGTCTCGGCATTCCTGCTGAACCGCTCTTCCGATC', 'CGTGCCTTTTCCCGCGAGGTTG', 'GCCTGCTGGGGAGCCTGGGGAC', 'CCTCTAGAAATAATTTTGTTTAACTTTAAGAAGGAGATATACATATGAGCGGCCGCGGCAAAGG', 'CAACTCAGCTTCCTTTCGGGCTTTGTTAGCAGCCGGATCCTTAACCGCCAAAACCATACAGG', 'CTCTAGAAATAATTTTGTTTAACTTTAAGAAGGAGATATACATATGGGCCATCACCATCACCATCACC', 'GTCTGTGTAGAAGACCACACACG', 'GCTCAAGCAGAGGCGGCCTCGGCC', 'GCTTCAAGTGGGAGCGCGTGATG', 'GGGGATCAATTCTCTAGAGCTCGC', 'ATTGGCTGCAGGTCGAAAGGC', 'CCGCTCTTCCGATCTGTTATGAAGG', 'GCAGGAAACGAAGATAAATCATGTCG', 'CGTAACAACTCCGCCCCATTGACG', 'CGCGGTCTCGGCATTCCTGCTG', 'AGGCCCGGCATTCTGCACGC', 'CCATTCTCCGCCCCATGGCTGAC', 'CTTGTCTGTAAGCGGATGCCG', 'GATCAGTTGGGTGCACGAGTGG', 'CCGCTGTTGAGATCCAGTTCG', 'CCTCCTCACTACTTCTGGAATAGC', 'AGGCCGAGGCCGCCTCTGC', 'CCTGACGGGCTTGTCTGCTCC', 'CCAAAATGTCGTAACAACTCCGCCC', 'GCATATTTGAGAAGATGCGGCCAGC', 'CAGCGGCCAATAGCAGCTTTGC', 'CACAAGTGGCCTCTGGCCTCGCACACATTCCACATCCAACGCGTGGGTTGCGCCTTTTCCAAGGC', 'CGAGGCTGATCAGCGAGCTCTAGAGAATTGATCCCCCGTCGACGTCAGGCACCGGGCTTGCGGG', 'CGTCGACGGGGGATCAATTCTCTAGAGCTCGCTGATCAGC', 'GGTTCCTGGCCTTTTGCTGG', 'GTGAAATACCGCACAGAGCAAAAGG', 'TGTTCTGCAGCGTGTCGAGC', 'TTACAGCGTGATGGAGCAGATGAAG', 'ACGCGTTGGATGTGGAATGTGTGCGAGGCC', 'ACTGCCCGCTTTCCAGTCG', 'CGACGATATGATCCTGATGCAGCTAG', 'TTTACGCAGACTATCTTTCT', 'CGGTCTCGGCATTCCTGCTGAACCGCTCTTCCGATC', 'CAAGAATGCATGCGTCAATTTTACGCAGACTATCTTTCTAG', 'GGTGCCTGACGTCGACGGGGGATCAATTCTCTAGAGCTCGCTGATC', 'CAACCCACGCGTTGGATGTGGAATGTGTGCGA', 'GATCCGTTGTAAAACGACGGCCAGTCA', 'TATGACTGGCCGTCGTTTTACAAC', 'GGAGGACGGGCAGACTCGC', 'CAACCCACGCGTTGGATGTGGAATGTGTGCGAGGCCAGAG', 'GAGTTGGTAGCTCTTGATCCGGC', 'GCAACTGCCCGGCTACTACTAC', 'CGTTGGCCGATTCATTAATGCAGC', 'CCGCACCGCTGTCATTAATCTGC', 'CCACTTGTGTAGCGCCAAGTG', 'GGATAATACCGCGCCACATAGC', 'GATCGGGCCCTGAAGAAGGGCCCGGGCCCTGAAGAAGGGCCCGGGCCCTGAAGAAGGGCCCCGG', 'GATCCCGGGGCCCTTCTTCAGGGCCCGGGCCCTTCTTCAGGGCCCGGGCCCTTCTTCAGGGCCC', 'GATCCCCGGGCCCTGAAGAAGGGCCCGGGCCCTGAAGAAGGGCCCGGGCCCTGAAGAAGGGCCCGGA', 'GATCTCCGGGCCCTTCTTCAGGGCCCGGGCCCTTCTTCAGGGCCCGGGCCCTTCTTCAGGGCCCGGG', 'CCACTCCTCCACCTTTGAC', 'ACCCTGTTGCTGTAGCCA', 'AATGATACGGCGACCACCGAGATCTACACTCTTTCCCTACACGACGCTCTTCCGATCTTGCAAGAATGCATGCGTCAATTTTACGCAGACTATCTTTCTAG', 'ACCATTCCCAATGCCTGAA', 'TGCATACCTACCCAATGTATGG', 'GGCTTAGACCCTCAGGT', 'GCTCCCTCTCTCCACTC', 'GGACTCATGACCACAGTCCATGC', 'GGAAGGCCATGCCAGTGAG', 'CCAAATTCGTTGTCATACCAGG', 'ACACCCAAGCTCGTTGGG', 'CCTTGCCTGCATTTCTCTGC', 'CAGAAAGGTCCTGCTCCGC', 'CCCCTCCTTCCTCTCGCC', 'GTCCCTAATATCCCGGAGGT', 'GCAGGCTTCTAAATCCGTTC', 'GATCGGAAGAGCGGTTCAGCAGGAATGCCG', 'AGAAAGATAGTCTGCGTAAA', 'CTAGAAAGATAGTCTGCGTAAAATTGACGCATGCATTCTTG', 'GTTGACATTGCGAAGAGCGACAAAG', 'GATCTGTTGTAAAACGACGGCCAGTC', 'TTAAGACTGGCCGTCGTTTTACAACA', 'AATGATACGGCGACCACCGAGATCTACACTCTTTCCCTACACGACGCTCTTCCGATCTACTTTTACGCAGACTATCTTTCT', 'AATGATACGGCGACCACCGAGATCTACACTCTTTCCCTACACGACGCTCTTCCGATCTCAGTTTACGCAGACTATCTTTCT', 'AATGATACGGCGACCACCGAGATCTACACTCTTTCCCTACACGACGCTCTTCCGATCTGTCTTTACGCAGACTATCTTTCT', 'AATGATACGGCGACCACCGAGATCTACACTCTTTCCCTACACGACGCTCTTCCGATCTTGATTTACGCAGACTATCTTTCT', 'AATGATACGGCGACCACCGAGATCTACACTCTTTCCCTACACGACGCTCTTCCGATCTACGTTTACGCAGACTATCTTTCT', 'AATGATACGGCGACCACCGAGATCTACACTCTTTCCCTACACGACGCTCTTCCGATCTCTATTTACGCAGACTATCTTTCT', 'AATGATACGGCGACCACCGAGATCTACACTCTTTCCCTACACGACGCTCTTCCGATCTGATTTTACGCAGACTATCTTTCT', 'AATGATACGGCGACCACCGAGATCTACACTCTTTCCCTACACGACGCTCTTCCGATCTTGCTTTACGCAGACTATCTTTCT', 'CAAGCAGAAGACGGCATACGAGATCGGTCTCGGCATTCCTGCTGAACCGCTCTTCCGATC', 'CGGATTTCCTTGAAGAGAGTGAG', 'CGGATCTGGAAGTTCTGTTCC', 'CGCTGTGCAGAAGCAGAGAGG', 'GTTACCAGGTCCGCGCTCTC', 'ACGGATTCGCGCTATTTAGA', 'GTGCTTGTCAATGCGGTAAG', 'CACGCGGTCGTTATAGTTCA', 'GACGCATGATTATCTTTTACGTG', 'CGCAATTAATGTGAGTTAGC', 'GGTGTAAACCTTAAACTGCC', 'CAGGCAGACATCTGTGAATCG', 'GTTCTGCCCAAGGGTTGGTTTG', 'TTAATCTAGCTGCATCAGGATCATATCGTCGGGTC', 'GGTAGAAAAAGCAACCACGAAGC', 'ACATAAACCTCTGTCTGTGAGTGCC', 'GGCAGCACAGAGCAACTCTA', 'GAGTGCAAAGTCCCGTTTG', 'AGCCTTTGGAAGCTCTTGAA', 'GTGTCTTGGAGAGGCGTGTA', 'AGAAGAGTTAGTTGACTATACAGC', 'ATGTTTGAATGTGATAACCGTCCT', 'AATTACCGATCCAATGCGAAGCTTTAAGAC', 'AATTGTCTTAAAGCTTCGCATTGGATCGGT', 'AATTACGTAAGCTTAATGCCGATCCAAGAC', 'AATTGTCTTGGATCGGCATTAAGCTTACGT', 'TTGAGAAGAGTTAGTTGACTATACAGC', 'CAAGCAGAAGACGGCATACGAGAT', 'AATGATACGGCGACCACCGAGATCTACACTCTTTCCCTACACGACGCTCTTCCGATCT', 'AATGATACGGCGACCACCGAGATCTACACTCTTTCCCTACACGACGCTCTTCCGATCTATCACGTTTACGCAGACTATCTTTCT', 'AATGATACGGCGACCACCGAGATCTACACTCTTTCCCTACACGACGCTCTTCCGATCTCGATGTTTTACGCAGACTATCTTTCT', 'ACAGTAGCTGTATATAAAACCAGTGATGTTTGAATGTGATAACCGTCCT', 'TGCTGTATAAAAAACCAGTGGTTATATGTACAGTAGCTGTATATAAAACCAGTGGTTATATGTACAGTAGCTGTATATAAAACCAGTGATGTTTGAATGTGATAACCGTCCT', 'ATGTTTGGTGAGCCAAAAC', 'GATCGGAAGAGCACACGTCTGAACTCCAGTCACATCACGATCTCGTATGCCGTCTTCTGCTTG', 'GATCGGAAGAGCACACGTCTGAACTCCAGTCACCGATGTATCTCGTATGCCGTCTTCTGCTTG', 'AATGATACGGCGACCACCGAGATCTACACTCTTTCCCTACACGACGCTCTTCCGATCT', 'CAAGCAGAAGACGGCATACGAGATATCACGGTGACTGGAGTTCAGACGTGTGCTCTTCCGATCCGGTCTCGGCATTCCTGCTGAACCGCTCTTCCGATC', 'CAAGCAGAAGACGGCATACGAGATCGATGTGTGACTGGAGTTCAGACGTGTGCTCTTCCGATCCGGTCTCGGCATTCCTGCTGAACCGCTCTTCCGATC', 'AGCCATCAAGGAGGCTGTAA', 'CCAGGAAGTCCGTAGAGACG', 'GAAGTTCAGGCATTGGGAAT', 'CAAACGGGACTTTGCACTCT', 'GTGAACCGTCAGATCGCCTGG', 'TGTCCAATTATGTCACACCA', 'CCATTCGCCATTCAGGCTGC']"
   ]
  },
  {
   "cell_type": "code",
   "execution_count": 253,
   "metadata": {
    "collapsed": false,
    "slideshow": {
     "slide_type": "fragment"
    }
   },
   "outputs": [],
   "source": [
    "reference = 'CATGACCCCCCCCAAGAAGAAGCGCAAGGTGGAGGACGGAATGCACGCACAAACACGACG aaactatcagtcctgagaagactgttgtcaattaatgccttgtataactg gattgctcaggagaagggagagtaaggcagtgaaagggaaggggcaatag gtttgaggaagacattattggtttcttaacccaacccccatttttcaacc attttctcttgcttgcctcactataaaggctgaaaagcaagatattcctt tttcctatgcagctggtattaaacctgtcacacagttcaggccaataaga caatgaaatccaccgtggtgggggtggaggatggcacttctgatgtaagg cttttgtctccttataaaagggaaagccagaacaagagagttcctgatgc tacctgccccttatttctttcccatcctctgatagtgaggcaacaggaat gaggattaaaaggtaaaagctaaaaatggtacagcagagagaaagaacct aggtccttgataaacttgcttagctgctgaaacagtcctaattctggaca ccttgtgttataaatgttgacacagtttttttttgtttttgtttttgctt tgttttgagatgcagtcttgctctcttgcccaggctgcagtgcaatggca tgatcttggctcactgcaacctctgcctcccgggttcaagcaattctcct gcctcagcctcctgagtagctgggattacagacacacgccaccatgccca gctaatttttgtatttttagtacagatggggtttcaccatcttggtcagg ctagtctcgaactcctgaccttgtgatccgcccgcctctgcctccctaag tgctgggattacaggcgtgagccattgcgcccagcctgtgttcacacagt tttaagctactgttaggtatttgcatctgaaaccattcctaaccaatata cgattttcaatatgtatagattctacttcattttctatctaaggaactta gaaatggaatatacaagaaattattttattctacatcttcatgaatattt atcagttgtatcctaatgctgaattctgttttctttttcacataatatac caaataaattccatctcatcaccacctattgcctcaagcttccttagaaa caatggctatacactgggcttttaggaagaacaagatggtaagagagtgg caccttacaatgctgctttggaaactggggcagttaaagatcactcctca ctaaagaatggagttttagactggagcagcatgttttcttatttctcgct gcccctcttcctcaatacccagtgtttggctttttatcaaactccagggc actcttgggaactacgcttaagaattaacaaggatagatccattatcttt ccttagatggcagctacttacttggatgggttaaatgctcaacaaacttt aaaggaccagtgcctaggaggcagagaaatcccagcagcaattcagccag gcctggtcctatgtcagttacatggctaattgctttctccacagctcttg cctaatggtagaccttttagtattctcctatccagatgtagccacttagc tggggtaccattaaagtccccaaagggataactgtagttcttaacaaagc aagaaaaggttattttaaaatcaaaataattatcacacagccctattaag ttcttgttgacattatacatttctatttttcaatctcatctctctcccca aattcttattaggatgttatgaggtacaaaatccttgaaaaacgtatcaa atacttttatcttctaatttgctacacattaagtgttacaatttctggat ctcacaaatgggtgggaaggacaaagttacagagtgaaaagtatgaacct actacattgtggtttggcttgagctgctgaaaatttcactgtggaaaaac tatactgtaaatacttcctgataatacaggagttttaaaattttgaatgc ttacaatgcattcagagtagagcacatacaagtcagtactgagaccacaa taacaaaaaccctgccctgatctttaaggccttatgcagtttagtactgt aacagtcaagccaaaagaaaatatataactggaaggtgaggagggggaga gaaccaatgagcgtgctcacatgcactcgtctctaaaaccgtctctaaac ttggttcaagtttacaaggagattacgcacacacactctctctctctctt tctctctctctccttccctcactttaaaataataccaaaatacagtatta agcttttgttttaaacaagctatcaaagcttacaggcccagggactcgga aaccacagaagaggttgcagcctggtaaagaaataggcaacgataaaggc tcaaatagtttggcaggtcttctatataaaccataaactggtcaagtgct ctaattctgccctgctatcttaatttaatgcagcaaaaaattcttaccat aatttgttgacatattcatctgattatctttgtgtctaaccaggaaagct ctgataagctatctttagttttacaaagtcaggcaaatggaaaacttcaa ttttggatgtttactttctaaccataagtgatattttttagaatgctggc cacagactagaggtctacactcaaagaaggcaggcaggcaggtaggggca aagaatgaaattgcagctaagcactgtggctcatgctggtaatcccagct acttgggaggctgaggcaggaggatcacctgaggaatttgagacaagcct gggcaatatatattgaaatcctgtctcttaaaaaatttaaagagtagcca ggcatggtggcacatgcctgtagtcccagctacttgggaggctgagaaag agagagagagaaaggaggttcccttgagcccaggtgtttgaagctgcagt aagctatgattgtgccactgcactccggcctgggcgacagaggagggctc catgtctcttaaaaaaaataaaaaataaaaaaggaatctacactgcctat cagtaacacttatccacatacttctagacagtcatagtgatccaacacag aagaacagcagcagctggggaaattgtcttgttcctgtctcatctcctgc tgctctccatcacagtactaaactacttgcattttttctaaacacatcat gctgtttcattctcttgcatctgctattctcttatatgtggaatgttctt ctctactttctctgggaaacttctatttacctttcaaaacctgttaaagc atcatttcctccaggaagccttctctgatgtttaccagaattctcagtac ttgcaaatatttacattattatatttatcatattagaatgtaattacatt ttcatgtgtctgactcccctataaggcagtgaatactttcatgtcttata catctctctgtcactagtacctagcatggtgtttggcacattgtagatgt tcaaatttttttttaatttttttttttgagatggagtctcgctctgtcgc ccaggctggagtgcagtggtgcaatctcagcttactgcaacctacctccg cctccctcgttcaaaggattctcctgcctcagcctcctcagtagctagga ccacaagcatgtgccaccatgcccggctaacttttgtatttttggtagag acggggtttcaccatattggccaggctggtctggaactcctgaccttgtg atctgcctgccttggcctcccaaagtgcagggattacaggtgtgagccac cgcgcctggccattcaaatattttttattgagctgaacccacagaggctt atgaaggtctgattgaattgagaaaattattcatggactgatttctggaa acctgacctcaggcttcctcaaggttagagataccaggcagatacataaa gaataaaatcaaatgccttgatcttatttttacaaaggatttgtgtgcac taagtctctcaccagagacatttgggaaaacccatgttcaatttttgatt acggtctaaaatgataacaaattgttccaattatatagaacctgccactc cattatatcataatgtagacaaaccaggaagtgctaatgggatcctatta accttcatatcacattacaacagcctaggggaagagaggagagaaaggaa aatacaaaggccattaaaaatactgatgggtgtcaggcaggggctaagag gttggaacttccagtcctcacctctaggtaacaactcactacagtatagc aaatgcagatttcaaccatagtatagtaggccggtaatgcctccagtata gacctgtcctgccaaaatacaacataccaggtggcttaaacagaacttta ttatctctcagttctggaggccagaggtgttaccagggttggtttcttct gaaggatgtcagcaagaatgtgtttcatgtctctcctagcttctggcttg ctggcagtctttggcattccttgacttgtggcagcataaatccaaccttc acatagtgttctcctgtgtgcgtgtgtgtgtgtgtgtgtgtgtgtgtgtg tgtgtgtgtgtatgtccaatttcctctttttataggacaccagtcatatt ggagtaggggcccaccttacttcagtatgacctcatattaactaatgcca tctgcaatgaccctgtttccaaataaggtcacattttaaggtacctgggg ttaagacttcaccataaaaattcaattcaatccataacagctcacaaaga tatatcaatgttctaattcttagaagctgtgaatgttaccttatatggtg attaaattaagggctttgagatgaggggattatccagatgggccctcaat gctatcacaagcgtccttctaagacagcagcaaagggagattagaaacac acagagaggagagggcaatgtgaagaaagacatagagattgaagtgatgt aaccacaagccaagaaatgccggcagcaactagaagctggaagaggcaag gaaaggattctcctggagagccttctcaggaggatacggtcctctttaat atcttggtgggcttttggtctcccaaactgtgagataataaatttctttt ctttcaagccacctagtttgtggtaatttgttataacgcctacaggaaac taatatacatattatcttttcataatttaaacataattatctccattcta agagcagcagaggagcaggcagataacagacaataggtgacaaactccaa gcaattatacccataaccacaaaccactgtaaccagcatttttttaaaag ggaaagccaggcacagtggtgtgcacctgtagtcccagctactcagaaga ctgagaagggaggatcatttgagcccacaagtttgagtccagcctgggca acacagtgagactccatctctttaaaaaaaaaaaaaaagggagcagggag acaaatccgcactgaaatatcaccaccacaacaaaagaaactacagagta catcacactagataagggtgaatactattacatggctctctaatttctat tatataaaaaatgtgttttggttgggcacggtggctcacgcctgtaatcc cagcactttgggaggctgaggcagccagatcacctgaagtcaggagttaa aaaccagcctggccaacatggcgaaacccggtctctactaaacatacaaa aattagctgggtgtggtggcgcacacctgtaatcacagacactcggcagg ccgaggcaggagaatcgcttgaacctgagagacggaggttgcagtgagcc gagacagtgccactgcactccagcctgggatacagagccagactccatct caaaaaaaaaaaagaaaaagtgttttaagttgcaatgtaaaatgtatttc ttactcgattcataaaccaaaaggactgagacttctggtttttggcttgg catataaagagcttagaataacagttgtcactctatcctaacaacaaata aaaagctgaactgaaaaatcttaacaactcttcatagatctatcagagaa gtgagttcacagggcaaactgctgttccccaaattggcagatatagagaa tcacaacctaaaggagcagaaacccatgagctgaaacctgcatgacaatc aagtgccaggggaggaaaacctgaactataattgatgaagctagaggcca agtgtggacaagtctgagagttaaaaatgccagggagacccagtcacaga ggagcccccacaccgttgtgagatttacctccaggttctcccagctctac taggttcttacggtgaatatcaggggaaatttcttgtgcttttggcgggg ggaaagggaaaagtacagtagcctccccttacccgtggtttcactttcca tggtttcagttacccatagtcaactgcagttcaaaaatagatgagtactg gtcgagtaaggtggctcacacctataattccagcattttgggaggctgac gtgggaggaccgcttgagcccaggagttcgagactagcctgggtgataga gtgagaccctgcctctatttaattttttttttttttttgagagagaatct cactctgtcacccaggctggagtgcagtggcacaatctcagctcactgca acctccgcctcctgggttcaagcaattcttgtgcctcagcctcctgagta gctgggattaaaggtgtgcaccaccacacccagctaattttgtgttttta gtagagacggggtttcaccatgttggccaggctggtctcgaactcttggc ctcaagtgatctgcccgcctcggcctcccaaagtgttgagattacaggcg tgagccactgtacccggccaaaaaaaaaaaaaaaagatgagtacagtaca ataagatattttgagagagagaacacatttatataacttttattacagta tatttttataactgttctattttattattagttgttaatctcttactgtg ctgaatttataaattaaactttttcataggtatgtacatatagggaaaca tagtatggtcatccctccatatccatgggggactggtttcaagacccatg aggataccaaaatccacagatactcaagtccctgatataaaatggtgtag tatttgcatataaaatgtgcatatcctcctatatactttaaatcatctct agattattataatacctaatacaatgcctacatatcacttcattcgtgtg gattcaatgtagtgcttggcaggcagcaaatttaagttttgcctttttga attctgcggaattttttttttctgagtattttttacctatgattgtttta atccatggatgagaaacccatggatacagagggctgactgtatatagggt ttggtactatctggtttcatgcctccactgggaatcttggaatgtatcct tgtgaataaggggggactactggaaccattttgaaataccccagagcatt ctgttcttctttacaaggcctgccctcaggagaaaatactttaccagagc ctaacctgctgcggttttatcatagactaactaacctgggagaagggtaa tacccaattctacccccgtctagccatcctgtcccatccaagtggggaaa agaaaacaaaactgagaagcactggtgaagtttatagtccagggcatagg ctcaccaaaatattgagacctaatcatacgacagtagaacacttccagtt cccctccctgtcatacctcatcacaactttactagggacgtatttaccaa ttccttttacccagtatatcatgtccacctttcaacagaaaattgtaagt catattaaaaggcaaaaatacactctgaagaaactgaataagcaccagaa ccagtgagatatgacagaactgtcagaattaacagtccaggaattccaaa acactatgattaacacaacaacatgtaagaacagatggataatataagaa gagagatgaaaattctaagaaagaataaaaaagagaaacttttaggctcc tgaacacatggaggtgcaggagtgtgacaggcccaggaagggcatggaag cattgcaccccttcccaccaatgcatctccttatctggttttcatccgta tccttcataatatcctttataataaactggtaaacatcagctttccacag gctttctttctccatggtgagcaggacaatgtcctaggaccccagagagc caggagagagcaagatcaaagccagaaatccaactctgtccctactgccc actggtcttttccagtcaacacttcctcagcaaatacatgccacatagcc gtgctgctcagaggtctcctggcttatatgcagaaaaggccctgtggccc aggatcacagtagcaacaatattctcatcaaagcagccagagtgatacag cagaaggtcaagagacagaaaaaagcactaaatcctggtttataagagac aggcagacttcaagggttgtctcctaagacaataagtaagctcaagggga agcttataaccagtaagcttcagtggtgaaaaaagagcctagccaggccc aaatgggaaatcctaaagaaatagacatatattaaaagaaatagtaaatt caagatggggagcattcaagtgtgcagagggtgagcaagactttagtcag aaaataaagttactctttcttgccattgagcttaagccaaaaaaaaaaaa aaattaaagaaaagaaagctacttggctgggcgtggtggctcatgcctgt aatcccagcactttgggaggccgaggcgggtggataacctgaggtcagga gttcaacaccagcctgaccaacatggtgaaaccccatctctactaaaaat acaaaaactaggctgggtgtggtggctcatgcctgtaatcccagcacttt gggaggccgaggcaggcggatcacctgaggttgagagttcgagaccagcc tgaccaacatggagaaaccctgtctctactaaaaatacaaaattagtagg gtgtggtggtgcacgcctgtaatcccagctgctggggaggctgaggcagg agaatcgcttgaacccaggaggcggaggctgcggtgagccgagattgtgc cattgcactccagcctgggcaacaagagcaaaactctgtcttaaaaaaaa aaaaaaaaaaaattagctggtttggtggtacacgcctgtaatcccagcta ctcaggaggccaaggcagaagaatcacttgaacctgtgaggtggaggttg cagtgagccaagatggcaccactgcactccagcctgggcaacagcgagat gcagtctccaaaaaaaaaaaaaaaatctactcatacacaaaaaagcacac tccaagcattagtttttcatatgcagggagtgatgagtcagcattactct tgcaccagaatatacatgcaggagggaagtcctatgtgtgcaataagtga gggcggggctttagaaataagtcacacttcacataccagaggacacactc agggaagaaggctttcttgtgaaaggagtgtgggtaagacttcttataga aggcaattctcactgcatatcagaaaacccactcagggaagaagtctttt gtatgcaaggagtgtaggtaagactttacccaaaagtcaactgtgcatga gagaacacacttggcagagaagccttatagatgccaggagttgtggacaa aggattaggtataaatcatcctatgataaacactggaaggcacactcagg ggagaaggctttgttgtgcagggagtatgggcaagacttcagcttgaaga catctcttaccagacaccagaggacacacccagggaagtaactctgcttc tttaaaaagctgtagccaagactgtgcaacttgtttatggatatatcacg aaggcagaagggatccagagggctaaaagaacctgaacttggcccaagtt attcccagagattctgagaaaagaggcactgagagcctcaccaacctcct tagacggcacagcagtctaggacccctccaccaaaccttccctccctctg ttcttccctctggcagctctcccaaccttccttagtgctatggtttgaac aatgttgtcccttgcaaaattcatgttgaaacctaatcaccaatgtaaca ttattaagagaatgtttaggatgtggttaagtcatgaggatggagccttc atgaatggcattaggtacccttataaaaggatttggcaaaagatttggca tcactttaccctgtcctccaactgccatgtgaggacacagagctcctctc ctctggaggatgctatgtcaagataccatgttggaagcagagagcagccc ttgtgagataaccaaatctgctggcaccttgatcttgaacttcctagctt ccacaactgtgagaaaataaatttctgttctttataaaacaaacaaacaa acaaacaaacaagaaacgctacagataaaaaacactgtaacagaaatgaa gaatcccgaccaggcacggtggctcatgactgtaaccccggcattttggg aggctgaggtgggtgaatcacttgaggtcaggagttaaagaccagcctgg ccaacatggtgaaacccccgtctctactaaaaatacaaaagttagtcggg catggttgcgcaagactgtagtcccaactactcaggaggctgaggcatga gaattgcttaaacccaggaggtggaggttgcagggacctgagatcgtgcc actgcaatccagcctgggtgaccaagagagaatctgtctcaaaaaacaaa aaagaaatgaagaatgcctatgatgggctcagtagtagactggacatagc tgagcaaagaatctttgaacttgagctgggcatggttgcatgtgtctgta gttccggctacttgggaggctgaaattggaggatgacttgagcccacgag tttgagaccagcctaggcaacatagtgacatagtaagacactgtctctaa aaacaaagaatctctgaacttgaggatatgacaatagaaacttccaaaac tggaaagctaagaaaagaagaactaaaaaaaaaataacaacaacaaaata tccaagaactgtgggacaaatacaaaaggtataatatgtgcataatagga gaaagaaagaaacacacacggccgggcgcggtggctcattcctgtaatcc cagcactttgggaggccgaggcgggtggatcacgaggtcaggagatcgag accatcttggctaacacagtgaaaccccgtctctactaaaaatagaaaaa attagctgggcgcagtggcgggcgcctgtaatcccagctactcgggaggc tgaggcagaagaatggcgtgaacccgggaggcggagcttgcagtgagccg agatagcgccactgcagtccggcctgggagaaagagcgagactccgtctc tgaaaaaaaaaaaaaagaaagaaagaaagaaagaaagaaacacacacaat atttggtattgctaaacaataactaaagcgataactaaaaatgtcccccc aaatcaatgtcagacaccacaccataagaacaataagcaggctaaatgac aaacaaacaaacaaacaaaaaactacacctagatatatcatatccaaact tcagaaaatcaaagagaaagagaaacatcttgaaagaaggcagagggaaa atcaccttacctacagaggagcaaaaacaagaattacatctaacctctca gaaaccatgcaagcagagagtacagtcaaagagagaaaaccctatcagcc tagaattctgtatcctgcacaattcttcagaagaaaggccacatgtggtg tggctcacgtctataatcccagcacggcagatggattgcttgtgtccagg agtttgagactagcctgggcaacacagtgagatctcatctcaatgaaaaa taaacaaaattagccaagtgtcctggcgtgtacctatagtcctagctatt tgggaggctgaggtgggaggatcgcttaagcccaggaggttgaggtgagc tgagatcacaccactgcactctagcctgggcaacacagtgagatcttctc tcaaaaaaaaaaaaaaaaaaaagtgaaggaaaaataaagactttctcaag caaaccaaaatacggagaaattgttgcccacagacttgccttgccagaaa tcttaaaagaagttctttagagagaaggaaaatgagctaggcacggtggc tcatgcctgtaatcccaacactctgggaggctgaggcgggaggactgctt tagcccgggagtttgagatcagcctgggcaatatcagcagaccctatttc taacaaaaataaaaataaattagctgggcatggtggtgcttatctgctgt tccagctactccagtggctgagatgggaggattgctggagccagggatgt tgaggctgtagtgagctacaaccttgccactgcaccccagcctacgtgac acagtgagatgctgtctcaaaaaaaaaaaaaaaaaaaatatctgggattc gaatcagccctctccagctccaagcacactgggatccttgccgttggagg ttgctgttggcttctgcccgtgctgtgtattgagatctgcaaccaagcat gggagcttacgaaggcacctggtggtttctaggtaggaaaacagtgtgga tgccagatgtggtgcctcacacacaacagcactttgggagcctgaggcag gcagatcacctgaggtcaggaattcgagaccagcctggccaacagagaga aaccctgtctctactaaaaaaatacaaaaaaaattagtcaggcatggtgg tacctgtagtccctgctacttgggaggctgaggcacaagaatcacttgaa cctgggaggcagaggttacagtgagctgagatggtgccgctgcactccag cctgggagacagagcaagactccatcttaaaaaaaagggccgggtgcagt ggctcacgcctgcaatcccagcactttgggaggccaaggcgggcagttca caaggtcaggagttcaagaccagcctggccaaaatagtgaaatgccatca aaatagtgaaatgccatctctactaaaaatacaaaaattagccgggcatg gtggtatacacctgtaatcccagctactcaggaggctgaagcaggagaat tgcttgaacccaggaggcagaggctgctgtgagctgagatcgtgccactg cactccaccctgggagacagtgcgaaactccgtctcaaaaaaaaaaaaaa aaaagcgtggagtgtgcgtaattgtgtttgaggaagagatggtcactgtc tctatggtagtgtctttagggaactatctgtgcctggatcctggggaatt atgacaaagcagtctgcaggtttggcatgaactctgaactttctccctct gcaggatcttcaatagaaaggtcctgtcctgaggaaacactcagaggcac ttctcttgcttgtgaagcctgccagcatgtatgttttggtcagcactgag atgcacatgacaaattgtgcgcaatgcctcagcacagcccaacggggttt tttctgtttacacttgactagccttggacagtaggaggaaaccttaaata tttccttctactctcacaaaccctttatctttttttttgagacggagtct cactctgtcggccaggctggagtggcacgatctcagttcactgccacctc cacctcctaggttcaagcgatcctcctgcctcagcctcttgagtagttga gactacaagcgcacactgccacacctggctaatttttgtatttttagtag agacgaggtttcaccatgttggccaagctggtctcaaactcctgacctca ggtgatccacctgccttggcctcccaaagtgctggaattacaggcgtgag ctaccacacccggcctcacaaaccttttatctaataaaacaaaattactg ccaaaaaaaaaaaagagacaatgtcagagtcaatcaaaaaacaagaccta actgtatgttgtatatgagaaaacccctttaatacaaataaacatataga ttaaaagtaaaaagataggccgggtgcggtggctcacgcctgtaatccca gcactttgggaggccaaggcgggtagatcacaaggtcaggagatcgagac catcctggctaacacagtgaaaccccatctctactaaaaatacaaaaaat tagctgggcgtggtggcgggtgcctgtagtcccagctactcagaaggctg aggcaggagaatggtgtgaacccgggaggtggagcttgcagtgagcggag atcacgccactgaactctagcctgggtgacagagcgagactccatctcaa aaaaaaaaaaaaaaaaaaagtaaaaagataaagatataccctaatccaaa aaaggtgagaatagctatattaattttagaaagaaagatatcaggaataa agacgagcattgcataatgataaaatggtcaatactccaagatgacatac aaattcttaatgcaggccaggcatggtggctcacacctgtaaccccagca ctttgggaggccaaggtgggtggatcacttgaggtcaggagttcgagacc agcctggtcaacatggtgaaaccctgtctctactaaaaatacaaaaatta gccaggcatggtagcatgcacctgtaatcccagctactcaggaggctgag gcaggagaaccatttgaacctgggaggtagagcttgcagtgagccaagat tgtgccactgcactccagcctgggcgacagagcaagattccatctcaaaa aaaaaaataaataaaaaataaaaataaaaataattaatgtgtatgtagct aacaacagagcatcaaaatatgtgaaggaaaaactgacagaactgcaaag agacagatagatgaacctgctcttatattaacagttggagactttaacac ccctctatcagaaatggacgtatccagcaggcagaaaatcagtaaggaca cagttgaactcaacagcaccatcaatcaactggacataattaacatctat agattaattcatccaacaacagattatacattcttcttagctcacatgga acatttaccaagactgaccacattctgggccatataacacaccttaacaa gtttaaaagaaatcacacaatgtctgccctcaaactgcaatggaattaaa gtagaaatcagtgacagaaagatagctggaaaatatgaaaggacttagat taaataacatacttctaaataatacatgaagcaaaaaagaaatctccaga gaaattaaaaagtattttgaactacatgaaaatgcaacttataaaaattt gtaggatgcagcagaaacagtgattagtgggaaactgatagcagtgaata aacatactagaaaagaaaaagatctaaaatcaataatctaagcttccacc ttagaaaactagggggaaaaagagcaaattaaatccaaagcaagcagaag aaaagaaataataaaaattagtgtaggtcaggggtggtgccccatgccta taatcccggcactttgggaggctaaagcaggaggattgcttgaagccagg agtttgagaccagcctggtcaacactgcaagaccatgtctctataaaaaa taaaaaaattagccgggtatggtggtgctcaggaggctgaggcgggaaaa tcatttgaactgaggagtcggaggctatagtgagctaagatcacatcact gcactctagcctgggcaacaaagtgacaccctgtcaaatgaatgaatgaa caaaaaaagagtggccaacatggtgaaaccccatctctactaaatacaaa aagaaataaaaaaattagctgagcatggtggcgcgcgcctgtaatcccag ctactcaggaggctgaggcaggagaatctcttgaacctgggaggtgtagg ttgcagtgagccgagatcatgccactacactccagcctggcgacatagca agactctgtctaaaaaaaaaaaaaaaaaacctactataggcctggcatag tgcctcatgcctgtaatcccagcactatgggaggccaaagtgggaggatt gcttgagactaggagtttgagaccagcctggggaacataacgtgaccctg tttctaccaacaccccccgccccaaaaagaaaaaaaacctactagaaagc tacagtagcaaacatagtgtggtactagaaaaagaatagacacataaatt actatatatattttatttatttatttattttgagacggagtctcgttctg tcgcccaggctggagtgcagtggcgagaccttggttcactgcaagctccg cctcctgggttgacgccattctcctgcctcagcctccggagtagctggga ctacaagtccccgccaccacgcccggctaattttttgtattagccgggat tagtagagacgggatttcaccatgttggccaggatggtctcatctcctga cctcgtgatccgcccacctcggcctcccaaagtgctgggattacaggcgt gagccaccgcacctggccatcaattactatatttatgtgaataaacagag ggtccagaaatagacccacataaatatagtcactgatctttgacaaagaa gcaaaggcaatacaatgaagcaaagataatcttttcaacaaatggtgctg gaacaactggacatccacatgcaaaaaaatgaatctagacacatgcttta tagccttcacaaaacttaaaatggatcacagacctaaatgtaaaatacaa aactataaaatttctagaagataatataggggaacacctacaccaggggc cacacagcagggggtgagcagcaggcaagtgagtgaagcttcatctgtat ttacagccactccccatcacttgcattacagccagaactctgccttctgt cagatcagtcgcagcattagattctcaaaggagtcccaaccctactgtga actgtgtatgtgagggatctaggttgtatgccccttatgagaatctaatg cctgatgatctgtcactatctcccatcacccccagatgggaccatctagt tgcaggaaaacaagctcagggctcccactgattctacattatggtgagtt gtataattatttcactattatattataatttaataatactataaataaag tacacaataaatgtaatttgcttgaatcccccccacccccagtccatgaa aaaaattcttccaggaaaccagtccctggtgtcaaaaaggtgggggacca ctgacctagatgacttttgtatggcgatgactttttaaatacaacaccaa agtcatgatccatgaactaagtaattgataagctggactgtgctaaaatt agaaatatctgctctgtgaaagacaatgtcaagaaaatgtaaagacaagc tacagaatgggagagaatgtaaaagatacacctgataaaggactgtcata caaaatacacaaagaactcttaaaactgaacagtaagaaaatgaacaacc tgattaaaaaatgggcaacggactttagtcagacacttcaccaaagaaaa atacagatggcaaataagcatgctcaacatcatgccatcagggaaataca aatacagataattgttattagtattattttttgagacagactctcactct gtcacccaggctggagtacagtggcgtgatcttggctcactgcaacctcc gcctcccaagttcaagcgattctcctggcttcagcctcctgagtagctgg gactacaggcacttgccaccacgcccagctaatttttgtatttttaggag agacgggggtttcatcatattggccaggctcttctcgaactcctgacctc aggtgatccacccgccttggccttccaaaatgcagggattacaggtgtga gccacccggcaggcattaaattgttgtttaatgcaaattaaaacaacaaa atccattacacacctattagagtggccaaaatccaaaacactgacaacat taaatgttgataaggatgtggagcaacaagaactctcattcatttttggt gggaatgctaaataatatagccactttggaagacagtttgacagtttctt acaaaactaaacatagtcttaccataaacatagtattaccatatgatcca gtgatcacactcattgatatttacccaaatgaacagaaaacttatgtcca cacaaaagcctgcacatggatatttatatagcagctttctttactcataa ttgccaaatctcggaagcaatgaagatgtccttcagcaggtgaatggata aattgtggtacattcagacaatggaatattactcagcactaaaaagaaat aaggtatcaagccatgaaaagataaggaagaaacttaaatgcatattact aaatgaaagaagctagtatgaaacggccttatattgtatgattccaacta aacaacattctgtagacggcaaaactacggagacagtagttttggcaaga tcagtgcttgccagcggtcagtgggaagtgagggatgaacaggcagagca cagaggatatttaggacagtgaaactattctgtatgatactacaatggtg gatacgtgtcattttatatattgatttgacaggagttcactctgttgccc aggctggtgtgcagtggcacaatcatggctcactgcagccttgacctccc gggctcaagcagtcctcccacctcagcctcctgaatagctgggactacag gtgcacattaccacacctggctaatttttaattttttttttgtaaggatg gggtctcactatgttgcctaggctggtcttgaactcctgggctccagcaa tcctcctgcctcggcttcccaaagtgttgagattacaggcatgaaccact gtgcccggcctcattatatatttgttaaaacctacagaatttgtaatacc aagagtgaattctaatataaactatggacttgggtgataatatgtcaatg caggttcattgaatgtaacaaattagcattgtggttcagtatgttgacag tgggggaggctagtgtgtgtgaggacaggaggtatatgagaatcctctgc acttttcactcaattttgctgtgaatctaaaactgctctaaaaaaaatag tttcttaatttaaaaaaaagcaaaggaagagcataaatgaaaaaagaaaa gactgaaaaccactaagtaaatgtgaatagcttcttgcatattcattctc atacagtgctcagaaaagacagaaaaccaaagcatagcagaaagtccagc ttccaagcaggaactggtgtctccttgacagagcttcaatccaattatgc cccagacactgatttttctatcactacctcccctttgtttcagagacagt atccatgaccttctgttcatgcggtggaggaagaaattgcttcccagaaa ggcttagcccactccattctactagataaaggaaaaacaaaaagccactc cactctgacaagccgattactgtctatggagaagcaaaatgcctccctta ggactatgggaatagccaacaaggtacagtatgttcaaacctttaaccat gactctgccaagagcagctatgtatgtgaatacaatctcctcatctgggc agtcaaatatgcataactgaaagtacaaacctccataaggtcctgtctag ttatagtttcaaatgcacagaaagtgaaagaaggctgaaataaagtctcc cctatccactattgcaattatctaggtaaagcctagaaggaaagaacagg aaagactgaagagggaaagttaaagtgttgaatataatatgatattttat a'"
   ]
  },
  {
   "cell_type": "code",
   "execution_count": 254,
   "metadata": {
    "collapsed": true,
    "slideshow": {
     "slide_type": "fragment"
    }
   },
   "outputs": [],
   "source": [
    "def pattern_find(reference, pattern):\n",
    "    start = datetime.datetime.now()\n",
    "    pattern_location = []  # Creates empty list to store location of alignments. \n",
    "    reference = reference.upper().replace(' ','')  # Removes whitespace, converts to caps.\n",
    "    reference = re.sub('[^A-Z]+', '', reference)  # Uses a regex to remove char not a A-Z.\n",
    "    \n",
    "    for pattern in pattern_list:\n",
    "        pattern = pattern.upper().replace(' ','')  # Removes whitespace, converts to caps.\n",
    "        pattern = re.sub('[^A-Z]+', '', pattern)  # Uses a regex to remove char not a A-Z.\n",
    "    \n",
    "        for i, base in enumerate(reference):\n",
    "            query_pattern = reference[i:i+len(pattern)]  # \"Window\" used for search.\n",
    "            \n",
    "            if query_pattern == pattern:\n",
    "                pattern_location.append(pattern)\n",
    "                pattern_location.append(i+1) \n",
    "    \n",
    "    stop = datetime.datetime.now()\n",
    "    pattern_find_duration_real_data = stop - start\n",
    "    print('{} pattern find'.format(pattern_find_duration))\n",
    "    print('{} pattern find with real data'.format(pattern_find_duration_real_data))\n",
    "    return(pattern_location)\n"
   ]
  },
  {
   "cell_type": "code",
   "execution_count": 255,
   "metadata": {
    "collapsed": false,
    "slideshow": {
     "slide_type": "fragment"
    }
   },
   "outputs": [
    {
     "name": "stdout",
     "output_type": "stream",
     "text": [
      "0:00:00.001400 pattern find\n",
      "0:00:01.280562 pattern find with real data\n",
      "['TACTTGCATTTTTTCTAAACAC', 3184]\n"
     ]
    }
   ],
   "source": [
    "print(pattern_find(reference, pattern))"
   ]
  },
  {
   "cell_type": "markdown",
   "metadata": {
    "slideshow": {
     "slide_type": "slide"
    }
   },
   "source": [
    "### Fuzzy?"
   ]
  },
  {
   "cell_type": "code",
   "execution_count": 256,
   "metadata": {
    "collapsed": true,
    "slideshow": {
     "slide_type": "fragment"
    }
   },
   "outputs": [],
   "source": [
    "def mismatch(string1, string2):\n",
    "    mismatches = 0\n",
    "    for (nucleotide1, nucleotide2) in zip(string1, string2):\n",
    "        if nucleotide1 != nucleotide2:\n",
    "            mismatches += 1\n",
    "    return(mismatches)"
   ]
  },
  {
   "cell_type": "code",
   "execution_count": 257,
   "metadata": {
    "collapsed": false,
    "nbpresent": {
     "id": "79737bba-0156-435f-bf92-5168ea3a4afa"
    },
    "slideshow": {
     "slide_type": "fragment"
    }
   },
   "outputs": [],
   "source": [
    "def approximate_patterns(text, pattern_list, max_mismatches):\n",
    "    start = datetime.datetime.now()\n",
    "    reference_upper = reference.upper().replace(' ','')\n",
    "    reference_clean = re.sub('[^A-Z]+', '', reference_upper)\n",
    "    \n",
    "    pattern_matches = []\n",
    "    \n",
    "    for pattern in pattern_list:\n",
    "        \n",
    "        string_upper = pattern.upper().replace(' ','')  # Removes whitespace, converts to caps.\n",
    "        string_clean = re.sub('[^A-Z]+', '', string_upper)  # Uses a regex to remove char not a A-Z.\n",
    "        \n",
    "#        for i, base in enumerate(reference_clean):\n",
    "        for i in range(len(reference_clean)-len(pattern)+1):\n",
    "            query_pattern = reference_clean[i:i+len(pattern)]\n",
    "            if mismatch(string_clean, query_pattern) <= max_mismatches:\n",
    "                pattern_matches.append(i+1)\n",
    "                pattern_matches.append(pattern)\n",
    "    stop = datetime.datetime.now()\n",
    "    pattern_find_duration_fuzzy = stop - start\n",
    "    \n",
    "    print('{} pattern find'.format(pattern_find_duration))\n",
    "#    print('{} pattern find with real data'.format(pattern_find_duration_real_data))\n",
    "    print('{} pattern find with real fuzzy data'.format(pattern_find_duration_fuzzy))\n",
    "    return(pattern_matches)\n",
    "#print(approximate_patterns(text, pattern, max_mismatch))\n"
   ]
  },
  {
   "cell_type": "code",
   "execution_count": 258,
   "metadata": {
    "collapsed": false,
    "scrolled": true,
    "slideshow": {
     "slide_type": "fragment"
    }
   },
   "outputs": [
    {
     "name": "stdout",
     "output_type": "stream",
     "text": [
      "0:00:00.001400 pattern find\n"
     ]
    },
    {
     "ename": "NameError",
     "evalue": "name 'pattern_find_duration_real_data' is not defined",
     "output_type": "error",
     "traceback": [
      "\u001b[0;31m---------------------------------------------------------------------------\u001b[0m",
      "\u001b[0;31mNameError\u001b[0m                                 Traceback (most recent call last)",
      "\u001b[0;32m<ipython-input-258-f2c6ad50ac7a>\u001b[0m in \u001b[0;36m<module>\u001b[0;34m()\u001b[0m\n\u001b[0;32m----> 1\u001b[0;31m \u001b[0mprint\u001b[0m\u001b[0;34m(\u001b[0m\u001b[0mapproximate_patterns\u001b[0m\u001b[0;34m(\u001b[0m\u001b[0mreference\u001b[0m\u001b[0;34m,\u001b[0m \u001b[0mpattern_list\u001b[0m\u001b[0;34m,\u001b[0m \u001b[0;36m1\u001b[0m\u001b[0;34m)\u001b[0m\u001b[0;34m)\u001b[0m\u001b[0;34m\u001b[0m\u001b[0m\n\u001b[0m",
      "\u001b[0;32m<ipython-input-257-3373796a2c96>\u001b[0m in \u001b[0;36mapproximate_patterns\u001b[0;34m(text, pattern_list, max_mismatches)\u001b[0m\n\u001b[1;32m     21\u001b[0m \u001b[0;34m\u001b[0m\u001b[0m\n\u001b[1;32m     22\u001b[0m     \u001b[0mprint\u001b[0m\u001b[0;34m(\u001b[0m\u001b[0;34m'{} pattern find'\u001b[0m\u001b[0;34m.\u001b[0m\u001b[0mformat\u001b[0m\u001b[0;34m(\u001b[0m\u001b[0mpattern_find_duration\u001b[0m\u001b[0;34m)\u001b[0m\u001b[0;34m)\u001b[0m\u001b[0;34m\u001b[0m\u001b[0m\n\u001b[0;32m---> 23\u001b[0;31m     \u001b[0mprint\u001b[0m\u001b[0;34m(\u001b[0m\u001b[0;34m'{} pattern find with real data'\u001b[0m\u001b[0;34m.\u001b[0m\u001b[0mformat\u001b[0m\u001b[0;34m(\u001b[0m\u001b[0mpattern_find_duration_real_data\u001b[0m\u001b[0;34m)\u001b[0m\u001b[0;34m)\u001b[0m\u001b[0;34m\u001b[0m\u001b[0m\n\u001b[0m\u001b[1;32m     24\u001b[0m     \u001b[0mprint\u001b[0m\u001b[0;34m(\u001b[0m\u001b[0;34m'{} pattern find with real fuzzy data'\u001b[0m\u001b[0;34m.\u001b[0m\u001b[0mformat\u001b[0m\u001b[0;34m(\u001b[0m\u001b[0mpattern_find_duration_fuzzy\u001b[0m\u001b[0;34m)\u001b[0m\u001b[0;34m)\u001b[0m\u001b[0;34m\u001b[0m\u001b[0m\n\u001b[1;32m     25\u001b[0m     \u001b[0;32mreturn\u001b[0m\u001b[0;34m(\u001b[0m\u001b[0mpattern_matches\u001b[0m\u001b[0;34m)\u001b[0m\u001b[0;34m\u001b[0m\u001b[0m\n",
      "\u001b[0;31mNameError\u001b[0m: name 'pattern_find_duration_real_data' is not defined"
     ]
    }
   ],
   "source": [
    "print(approximate_patterns(reference, pattern_list, 1))"
   ]
  },
  {
   "cell_type": "code",
   "execution_count": 114,
   "metadata": {
    "collapsed": true,
    "slideshow": {
     "slide_type": "slide"
    }
   },
   "outputs": [],
   "source": [
    "from tinydb import TinyDB, Query\n",
    "import re\n",
    "import json"
   ]
  },
  {
   "cell_type": "code",
   "execution_count": 115,
   "metadata": {
    "collapsed": true,
    "nbpresent": {
     "id": "d71d3ced-acfc-4b7f-a6a4-c1d49be4f842"
    },
    "slideshow": {
     "slide_type": "fragment"
    }
   },
   "outputs": [],
   "source": [
    "db = TinyDB('/Users/ksindy/PycharmProjects/oligo_search_website/pratice_db.json')"
   ]
  },
  {
   "cell_type": "code",
   "execution_count": 116,
   "metadata": {
    "collapsed": false,
    "slideshow": {
     "slide_type": "fragment"
    }
   },
   "outputs": [],
   "source": [
    "def pattern_find_tinydb(pattern_list, reference):\n",
    "    print(datetime.datetime.time(datetime.datetime.now()))\n",
    "    aligns = []  # Creates empty list to store alignments\n",
    "    pattern_length_list = []  # Creates empty list to store pattern lengths\n",
    "    \n",
    "    for pattern in pattern_list:  \n",
    "        if len(pattern) not in pattern_length_list:  \n",
    "            pattern_length_list.append(len(pattern))\n",
    "            \n",
    "        for i, nucleotide in enumerate(reference):\n",
    "            ref_chunk = reference[i:i+len(pattern)]  \n",
    "            db.insert({'sequence': ref_chunk, 'index':i+1})  \n",
    "            #print(ref_chunk)\n",
    "                \n",
    "        sequence_match = Query()\n",
    "        matches = db.search(sequence_match.sequence == pattern)\n",
    "        matches = json.dumps(matches)\n",
    "        locations = re.findall(r'\\d+', matches)\n",
    "        aligns.append('{} {}'.format(pattern, locations))\n",
    "    print(datetime.datetime.time(datetime.datetime.now()))\n",
    "    return(aligns)"
   ]
  },
  {
   "cell_type": "code",
   "execution_count": 117,
   "metadata": {
    "collapsed": true,
    "slideshow": {
     "slide_type": "fragment"
    }
   },
   "outputs": [],
   "source": [
    "db.purge()"
   ]
  },
  {
   "cell_type": "code",
   "execution_count": 118,
   "metadata": {
    "collapsed": false
   },
   "outputs": [
    {
     "name": "stdout",
     "output_type": "stream",
     "text": [
      "21:21:14.863340\n"
     ]
    },
    {
     "ename": "KeyboardInterrupt",
     "evalue": "",
     "output_type": "error",
     "traceback": [
      "\u001b[0;31m---------------------------------------------------------------------------\u001b[0m",
      "\u001b[0;31mKeyboardInterrupt\u001b[0m                         Traceback (most recent call last)",
      "\u001b[0;32m<ipython-input-118-0a4e95929775>\u001b[0m in \u001b[0;36m<module>\u001b[0;34m()\u001b[0m\n\u001b[0;32m----> 1\u001b[0;31m \u001b[0mpattern_find_tinydb\u001b[0m\u001b[0;34m(\u001b[0m\u001b[0mpattern_list\u001b[0m\u001b[0;34m,\u001b[0m \u001b[0mreference\u001b[0m\u001b[0;34m)\u001b[0m\u001b[0;34m\u001b[0m\u001b[0m\n\u001b[0m",
      "\u001b[0;32m<ipython-input-116-c8733ba80f71>\u001b[0m in \u001b[0;36mpattern_find_tinydb\u001b[0;34m(pattern_list, reference)\u001b[0m\n\u001b[1;32m     10\u001b[0m         \u001b[0;32mfor\u001b[0m \u001b[0mi\u001b[0m\u001b[0;34m,\u001b[0m \u001b[0mnucleotide\u001b[0m \u001b[0;32min\u001b[0m \u001b[0menumerate\u001b[0m\u001b[0;34m(\u001b[0m\u001b[0mreference\u001b[0m\u001b[0;34m)\u001b[0m\u001b[0;34m:\u001b[0m\u001b[0;34m\u001b[0m\u001b[0m\n\u001b[1;32m     11\u001b[0m             \u001b[0mref_chunk\u001b[0m \u001b[0;34m=\u001b[0m \u001b[0mreference\u001b[0m\u001b[0;34m[\u001b[0m\u001b[0mi\u001b[0m\u001b[0;34m:\u001b[0m\u001b[0mi\u001b[0m\u001b[0;34m+\u001b[0m\u001b[0mlen\u001b[0m\u001b[0;34m(\u001b[0m\u001b[0mpattern\u001b[0m\u001b[0;34m)\u001b[0m\u001b[0;34m]\u001b[0m\u001b[0;34m\u001b[0m\u001b[0m\n\u001b[0;32m---> 12\u001b[0;31m             \u001b[0mdb\u001b[0m\u001b[0;34m.\u001b[0m\u001b[0minsert\u001b[0m\u001b[0;34m(\u001b[0m\u001b[0;34m{\u001b[0m\u001b[0;34m'sequence'\u001b[0m\u001b[0;34m:\u001b[0m \u001b[0mref_chunk\u001b[0m\u001b[0;34m,\u001b[0m \u001b[0;34m'index'\u001b[0m\u001b[0;34m:\u001b[0m\u001b[0mi\u001b[0m\u001b[0;34m+\u001b[0m\u001b[0;36m1\u001b[0m\u001b[0;34m}\u001b[0m\u001b[0;34m)\u001b[0m\u001b[0;34m\u001b[0m\u001b[0m\n\u001b[0m\u001b[1;32m     13\u001b[0m             \u001b[0;31m#print(ref_chunk)\u001b[0m\u001b[0;34m\u001b[0m\u001b[0;34m\u001b[0m\u001b[0m\n\u001b[1;32m     14\u001b[0m \u001b[0;34m\u001b[0m\u001b[0m\n",
      "\u001b[0;32m/Users/ksindy/anaconda/envs/nov2016/lib/python3.5/site-packages/tinydb/database.py\u001b[0m in \u001b[0;36minsert\u001b[0;34m(self, element)\u001b[0m\n\u001b[1;32m    319\u001b[0m         \u001b[0mdata\u001b[0m \u001b[0;34m=\u001b[0m \u001b[0mself\u001b[0m\u001b[0;34m.\u001b[0m\u001b[0m_read\u001b[0m\u001b[0;34m(\u001b[0m\u001b[0;34m)\u001b[0m\u001b[0;34m\u001b[0m\u001b[0m\n\u001b[1;32m    320\u001b[0m         \u001b[0mdata\u001b[0m\u001b[0;34m[\u001b[0m\u001b[0meid\u001b[0m\u001b[0;34m]\u001b[0m \u001b[0;34m=\u001b[0m \u001b[0melement\u001b[0m\u001b[0;34m\u001b[0m\u001b[0m\n\u001b[0;32m--> 321\u001b[0;31m         \u001b[0mself\u001b[0m\u001b[0;34m.\u001b[0m\u001b[0m_write\u001b[0m\u001b[0;34m(\u001b[0m\u001b[0mdata\u001b[0m\u001b[0;34m)\u001b[0m\u001b[0;34m\u001b[0m\u001b[0m\n\u001b[0m\u001b[1;32m    322\u001b[0m \u001b[0;34m\u001b[0m\u001b[0m\n\u001b[1;32m    323\u001b[0m         \u001b[0;32mreturn\u001b[0m \u001b[0meid\u001b[0m\u001b[0;34m\u001b[0m\u001b[0m\n",
      "\u001b[0;32m/Users/ksindy/anaconda/envs/nov2016/lib/python3.5/site-packages/tinydb/database.py\u001b[0m in \u001b[0;36m_write\u001b[0;34m(self, values)\u001b[0m\n\u001b[1;32m    286\u001b[0m \u001b[0;34m\u001b[0m\u001b[0m\n\u001b[1;32m    287\u001b[0m         \u001b[0mself\u001b[0m\u001b[0;34m.\u001b[0m\u001b[0m_query_cache\u001b[0m\u001b[0;34m.\u001b[0m\u001b[0mclear\u001b[0m\u001b[0;34m(\u001b[0m\u001b[0;34m)\u001b[0m\u001b[0;34m\u001b[0m\u001b[0m\n\u001b[0;32m--> 288\u001b[0;31m         \u001b[0mself\u001b[0m\u001b[0;34m.\u001b[0m\u001b[0m_storage\u001b[0m\u001b[0;34m.\u001b[0m\u001b[0mwrite\u001b[0m\u001b[0;34m(\u001b[0m\u001b[0mvalues\u001b[0m\u001b[0;34m)\u001b[0m\u001b[0;34m\u001b[0m\u001b[0m\n\u001b[0m\u001b[1;32m    289\u001b[0m \u001b[0;34m\u001b[0m\u001b[0m\n\u001b[1;32m    290\u001b[0m     \u001b[0;32mdef\u001b[0m \u001b[0m__len__\u001b[0m\u001b[0;34m(\u001b[0m\u001b[0mself\u001b[0m\u001b[0;34m)\u001b[0m\u001b[0;34m:\u001b[0m\u001b[0;34m\u001b[0m\u001b[0m\n",
      "\u001b[0;32m/Users/ksindy/anaconda/envs/nov2016/lib/python3.5/site-packages/tinydb/database.py\u001b[0m in \u001b[0;36mwrite\u001b[0;34m(self, values)\u001b[0m\n\u001b[1;32m     42\u001b[0m \u001b[0;34m\u001b[0m\u001b[0m\n\u001b[1;32m     43\u001b[0m     \u001b[0;32mdef\u001b[0m \u001b[0mwrite\u001b[0m\u001b[0;34m(\u001b[0m\u001b[0mself\u001b[0m\u001b[0;34m,\u001b[0m \u001b[0mvalues\u001b[0m\u001b[0;34m)\u001b[0m\u001b[0;34m:\u001b[0m\u001b[0;34m\u001b[0m\u001b[0m\n\u001b[0;32m---> 44\u001b[0;31m         \u001b[0mdata\u001b[0m \u001b[0;34m=\u001b[0m \u001b[0mself\u001b[0m\u001b[0;34m.\u001b[0m\u001b[0m_storage\u001b[0m\u001b[0;34m.\u001b[0m\u001b[0mread\u001b[0m\u001b[0;34m(\u001b[0m\u001b[0;34m)\u001b[0m \u001b[0;32mor\u001b[0m \u001b[0;34m{\u001b[0m\u001b[0;34m}\u001b[0m\u001b[0;34m\u001b[0m\u001b[0m\n\u001b[0m\u001b[1;32m     45\u001b[0m         \u001b[0mdata\u001b[0m\u001b[0;34m[\u001b[0m\u001b[0mself\u001b[0m\u001b[0;34m.\u001b[0m\u001b[0m_table_name\u001b[0m\u001b[0;34m]\u001b[0m \u001b[0;34m=\u001b[0m \u001b[0mvalues\u001b[0m\u001b[0;34m\u001b[0m\u001b[0m\n\u001b[1;32m     46\u001b[0m         \u001b[0mself\u001b[0m\u001b[0;34m.\u001b[0m\u001b[0m_storage\u001b[0m\u001b[0;34m.\u001b[0m\u001b[0mwrite\u001b[0m\u001b[0;34m(\u001b[0m\u001b[0mdata\u001b[0m\u001b[0;34m)\u001b[0m\u001b[0;34m\u001b[0m\u001b[0m\n",
      "\u001b[0;32m/Users/ksindy/anaconda/envs/nov2016/lib/python3.5/site-packages/tinydb/storages.py\u001b[0m in \u001b[0;36mread\u001b[0;34m(self)\u001b[0m\n\u001b[1;32m     99\u001b[0m         \u001b[0;32melse\u001b[0m\u001b[0;34m:\u001b[0m\u001b[0;34m\u001b[0m\u001b[0m\n\u001b[1;32m    100\u001b[0m             \u001b[0mself\u001b[0m\u001b[0;34m.\u001b[0m\u001b[0m_handle\u001b[0m\u001b[0;34m.\u001b[0m\u001b[0mseek\u001b[0m\u001b[0;34m(\u001b[0m\u001b[0;36m0\u001b[0m\u001b[0;34m)\u001b[0m\u001b[0;34m\u001b[0m\u001b[0m\n\u001b[0;32m--> 101\u001b[0;31m             \u001b[0;32mreturn\u001b[0m \u001b[0mjson\u001b[0m\u001b[0;34m.\u001b[0m\u001b[0mload\u001b[0m\u001b[0;34m(\u001b[0m\u001b[0mself\u001b[0m\u001b[0;34m.\u001b[0m\u001b[0m_handle\u001b[0m\u001b[0;34m)\u001b[0m\u001b[0;34m\u001b[0m\u001b[0m\n\u001b[0m\u001b[1;32m    102\u001b[0m \u001b[0;34m\u001b[0m\u001b[0m\n\u001b[1;32m    103\u001b[0m     \u001b[0;32mdef\u001b[0m \u001b[0mwrite\u001b[0m\u001b[0;34m(\u001b[0m\u001b[0mself\u001b[0m\u001b[0;34m,\u001b[0m \u001b[0mdata\u001b[0m\u001b[0;34m)\u001b[0m\u001b[0;34m:\u001b[0m\u001b[0;34m\u001b[0m\u001b[0m\n",
      "\u001b[0;32m/Users/ksindy/anaconda/envs/nov2016/lib/python3.5/json/__init__.py\u001b[0m in \u001b[0;36mload\u001b[0;34m(fp, cls, object_hook, parse_float, parse_int, parse_constant, object_pairs_hook, **kw)\u001b[0m\n\u001b[1;32m    266\u001b[0m         \u001b[0mcls\u001b[0m\u001b[0;34m=\u001b[0m\u001b[0mcls\u001b[0m\u001b[0;34m,\u001b[0m \u001b[0mobject_hook\u001b[0m\u001b[0;34m=\u001b[0m\u001b[0mobject_hook\u001b[0m\u001b[0;34m,\u001b[0m\u001b[0;34m\u001b[0m\u001b[0m\n\u001b[1;32m    267\u001b[0m         \u001b[0mparse_float\u001b[0m\u001b[0;34m=\u001b[0m\u001b[0mparse_float\u001b[0m\u001b[0;34m,\u001b[0m \u001b[0mparse_int\u001b[0m\u001b[0;34m=\u001b[0m\u001b[0mparse_int\u001b[0m\u001b[0;34m,\u001b[0m\u001b[0;34m\u001b[0m\u001b[0m\n\u001b[0;32m--> 268\u001b[0;31m         parse_constant=parse_constant, object_pairs_hook=object_pairs_hook, **kw)\n\u001b[0m\u001b[1;32m    269\u001b[0m \u001b[0;34m\u001b[0m\u001b[0m\n\u001b[1;32m    270\u001b[0m \u001b[0;34m\u001b[0m\u001b[0m\n",
      "\u001b[0;32m/Users/ksindy/anaconda/envs/nov2016/lib/python3.5/json/__init__.py\u001b[0m in \u001b[0;36mloads\u001b[0;34m(s, encoding, cls, object_hook, parse_float, parse_int, parse_constant, object_pairs_hook, **kw)\u001b[0m\n\u001b[1;32m    317\u001b[0m             \u001b[0mparse_int\u001b[0m \u001b[0;32mis\u001b[0m \u001b[0;32mNone\u001b[0m \u001b[0;32mand\u001b[0m \u001b[0mparse_float\u001b[0m \u001b[0;32mis\u001b[0m \u001b[0;32mNone\u001b[0m \u001b[0;32mand\u001b[0m\u001b[0;34m\u001b[0m\u001b[0m\n\u001b[1;32m    318\u001b[0m             parse_constant is None and object_pairs_hook is None and not kw):\n\u001b[0;32m--> 319\u001b[0;31m         \u001b[0;32mreturn\u001b[0m \u001b[0m_default_decoder\u001b[0m\u001b[0;34m.\u001b[0m\u001b[0mdecode\u001b[0m\u001b[0;34m(\u001b[0m\u001b[0ms\u001b[0m\u001b[0;34m)\u001b[0m\u001b[0;34m\u001b[0m\u001b[0m\n\u001b[0m\u001b[1;32m    320\u001b[0m     \u001b[0;32mif\u001b[0m \u001b[0mcls\u001b[0m \u001b[0;32mis\u001b[0m \u001b[0;32mNone\u001b[0m\u001b[0;34m:\u001b[0m\u001b[0;34m\u001b[0m\u001b[0m\n\u001b[1;32m    321\u001b[0m         \u001b[0mcls\u001b[0m \u001b[0;34m=\u001b[0m \u001b[0mJSONDecoder\u001b[0m\u001b[0;34m\u001b[0m\u001b[0m\n",
      "\u001b[0;32m/Users/ksindy/anaconda/envs/nov2016/lib/python3.5/json/decoder.py\u001b[0m in \u001b[0;36mdecode\u001b[0;34m(self, s, _w)\u001b[0m\n\u001b[1;32m    337\u001b[0m \u001b[0;34m\u001b[0m\u001b[0m\n\u001b[1;32m    338\u001b[0m         \"\"\"\n\u001b[0;32m--> 339\u001b[0;31m         \u001b[0mobj\u001b[0m\u001b[0;34m,\u001b[0m \u001b[0mend\u001b[0m \u001b[0;34m=\u001b[0m \u001b[0mself\u001b[0m\u001b[0;34m.\u001b[0m\u001b[0mraw_decode\u001b[0m\u001b[0;34m(\u001b[0m\u001b[0ms\u001b[0m\u001b[0;34m,\u001b[0m \u001b[0midx\u001b[0m\u001b[0;34m=\u001b[0m\u001b[0m_w\u001b[0m\u001b[0;34m(\u001b[0m\u001b[0ms\u001b[0m\u001b[0;34m,\u001b[0m \u001b[0;36m0\u001b[0m\u001b[0;34m)\u001b[0m\u001b[0;34m.\u001b[0m\u001b[0mend\u001b[0m\u001b[0;34m(\u001b[0m\u001b[0;34m)\u001b[0m\u001b[0;34m)\u001b[0m\u001b[0;34m\u001b[0m\u001b[0m\n\u001b[0m\u001b[1;32m    340\u001b[0m         \u001b[0mend\u001b[0m \u001b[0;34m=\u001b[0m \u001b[0m_w\u001b[0m\u001b[0;34m(\u001b[0m\u001b[0ms\u001b[0m\u001b[0;34m,\u001b[0m \u001b[0mend\u001b[0m\u001b[0;34m)\u001b[0m\u001b[0;34m.\u001b[0m\u001b[0mend\u001b[0m\u001b[0;34m(\u001b[0m\u001b[0;34m)\u001b[0m\u001b[0;34m\u001b[0m\u001b[0m\n\u001b[1;32m    341\u001b[0m         \u001b[0;32mif\u001b[0m \u001b[0mend\u001b[0m \u001b[0;34m!=\u001b[0m \u001b[0mlen\u001b[0m\u001b[0;34m(\u001b[0m\u001b[0ms\u001b[0m\u001b[0;34m)\u001b[0m\u001b[0;34m:\u001b[0m\u001b[0;34m\u001b[0m\u001b[0m\n",
      "\u001b[0;32m/Users/ksindy/anaconda/envs/nov2016/lib/python3.5/json/decoder.py\u001b[0m in \u001b[0;36mraw_decode\u001b[0;34m(self, s, idx)\u001b[0m\n\u001b[1;32m    353\u001b[0m         \"\"\"\n\u001b[1;32m    354\u001b[0m         \u001b[0;32mtry\u001b[0m\u001b[0;34m:\u001b[0m\u001b[0;34m\u001b[0m\u001b[0m\n\u001b[0;32m--> 355\u001b[0;31m             \u001b[0mobj\u001b[0m\u001b[0;34m,\u001b[0m \u001b[0mend\u001b[0m \u001b[0;34m=\u001b[0m \u001b[0mself\u001b[0m\u001b[0;34m.\u001b[0m\u001b[0mscan_once\u001b[0m\u001b[0;34m(\u001b[0m\u001b[0ms\u001b[0m\u001b[0;34m,\u001b[0m \u001b[0midx\u001b[0m\u001b[0;34m)\u001b[0m\u001b[0;34m\u001b[0m\u001b[0m\n\u001b[0m\u001b[1;32m    356\u001b[0m         \u001b[0;32mexcept\u001b[0m \u001b[0mStopIteration\u001b[0m \u001b[0;32mas\u001b[0m \u001b[0merr\u001b[0m\u001b[0;34m:\u001b[0m\u001b[0;34m\u001b[0m\u001b[0m\n\u001b[1;32m    357\u001b[0m             \u001b[0;32mraise\u001b[0m \u001b[0mJSONDecodeError\u001b[0m\u001b[0;34m(\u001b[0m\u001b[0;34m\"Expecting value\"\u001b[0m\u001b[0;34m,\u001b[0m \u001b[0ms\u001b[0m\u001b[0;34m,\u001b[0m \u001b[0merr\u001b[0m\u001b[0;34m.\u001b[0m\u001b[0mvalue\u001b[0m\u001b[0;34m)\u001b[0m \u001b[0;32mfrom\u001b[0m \u001b[0;32mNone\u001b[0m\u001b[0;34m\u001b[0m\u001b[0m\n",
      "\u001b[0;31mKeyboardInterrupt\u001b[0m: "
     ]
    }
   ],
   "source": [
    "pattern_find_tinydb(pattern_list, reference)"
   ]
  },
  {
   "cell_type": "code",
   "execution_count": 105,
   "metadata": {
    "collapsed": false,
    "slideshow": {
     "slide_type": "slide"
    }
   },
   "outputs": [
    {
     "ename": "IndentationError",
     "evalue": "unexpected indent (<ipython-input-105-55f715084728>, line 28)",
     "output_type": "error",
     "traceback": [
      "\u001b[0;36m  File \u001b[0;32m\"<ipython-input-105-55f715084728>\"\u001b[0;36m, line \u001b[0;32m28\u001b[0m\n\u001b[0;31m    for i, nucleotide in enumerate(reference):\u001b[0m\n\u001b[0m    ^\u001b[0m\n\u001b[0;31mIndentationError\u001b[0m\u001b[0;31m:\u001b[0m unexpected indent\n"
     ]
    }
   ],
   "source": [
    "def pattern_find_tinydb(pattern_list, reference):\n",
    "    \n",
    "    aligns = []  # Creates empty list to store alignments\n",
    "    pattern_length_list = []  # Creates empty list to store pattern lengths\n",
    "\n",
    "    for pattern in pattern_list:  \n",
    "        \n",
    "        '''\n",
    "        DETERMINE LENGTH OF PATTERN\n",
    "        Do not need to add to db if pattern length already seen\n",
    "        '''\n",
    "        \n",
    "        if len(pattern) not in pattern_length_list:  \n",
    "            pattern_length_list.append(len(pattern))\n",
    "            \n",
    "        '''\n",
    "        ADD REFERENCE TO DATABASE\n",
    "        Splits reference into pattern length chunks and adds to the db \n",
    "        along with location (i).\n",
    "        [{'sequence': 'cact', 'index': 1}]\n",
    "        [{'sequence': 'cact', 'index': 1}, {'sequence': 'acta', 'index': 2}]\n",
    "        ...\n",
    "        [{'sequence': 'cac', 'index': 1}]\n",
    "        [{'sequence': 'cac', 'index': 1}, {'sequence': 'act', 'index': 2}]\n",
    "\n",
    "        '''\n",
    "\n",
    "            for i, nucleotide in enumerate(reference):  \n",
    "                ref_chunk = reference[i:i+len(pattern)]  \n",
    "                db.insert({'sequence': ref_chunk, 'index':i+1}) \n",
    "\n",
    "            '''\n",
    "            FIND ALIGNMENTS\n",
    "            [{\"sequence\": \"acac\", \"index\": 9}, {\"sequence\": \"acac\", \"index\": 74}]\n",
    "            [{\"sequence\": \"cag\", \"index\": 12}, {\"sequence\": \"cag\", \"index\": 69}...\n",
    "            [{\"sequence\": \"ttat\", \"index\": 44}]\n",
    "            [{\"sequence\": \"agaa\", \"index\": 15}, {\"sequence\": \"agaa\", \"index\": 27}]\n",
    "            [{\"sequence\": \"ttatcaaatt\", \"index\": 44}]\n",
    "            '''\n",
    "        sequence_match = Query()\n",
    "        matches = db.search(sequence_match.sequence == pattern)  # bit-like object\n",
    "        matches = json.dumps(matches)  # Dumps json to python dict, in this case to string\n",
    "        locations = re.findall(r'\\d+', matches)\n",
    "        print(matches)\n",
    "        aligns.append('{} {}'.format(pattern, locations))\n",
    "    return(aligns)"
   ]
  },
  {
   "cell_type": "code",
   "execution_count": 442,
   "metadata": {
    "collapsed": false
   },
   "outputs": [],
   "source": [
    "final_list = []\n",
    "working_list = []\n",
    "\n",
    "def neighbors(pattern, mismatch_num):\n",
    "    nucleotides = 'ACGT'\n",
    "    current_list = []\n",
    "    final_list = [] # this will mess up the recursive algorithm if more than 1 mismatch\n",
    "\n",
    "#     for pattern in list:\n",
    "    pattern_whole = ''\n",
    "    final_list.append(pattern)\n",
    "    for index, nucleotide in enumerate(pattern):\n",
    "        rest = pattern[(index+1)::]\n",
    "\n",
    "        for i, nuc in enumerate(nucleotides):\n",
    "            working_pattern = ''\n",
    "            working_pattern += pattern_whole\n",
    "            working_pattern += nuc\n",
    "            working_pattern += rest\n",
    "\n",
    "            if working_pattern not in final_list:\n",
    "                final_list.append(working_pattern)\n",
    "                current_list.append(working_pattern)\n",
    "        pattern_whole += nucleotide\n",
    "\n",
    "    if mismatch_num > 1:\n",
    "        for item in current_list:\n",
    "            working_list.append(item)\n",
    "        return neighbors(working_list, mismatch_num-1)\n",
    "    else:\n",
    "        #return 'this is result{}'.format(\"\\n\".join(final_list))\n",
    "        return final_list\n",
    "final_list = []\n",
    "working_list = []"
   ]
  },
  {
   "cell_type": "code",
   "execution_count": 382,
   "metadata": {
    "collapsed": false
   },
   "outputs": [
    {
     "name": "stdout",
     "output_type": "stream",
     "text": [
      "['CACT', 'AACT', 'GACT', 'TACT', 'CCCT', 'CGCT', 'CTCT', 'CAAT', 'CAGT', 'CATT', 'CACA', 'CACC', 'CACG']\n"
     ]
    }
   ],
   "source": [
    "print(neighbors('CACT', 1))"
   ]
  },
  {
   "cell_type": "code",
   "execution_count": 505,
   "metadata": {
    "collapsed": false
   },
   "outputs": [],
   "source": [
    "def pattern_find_tinydb(pattern_list, reference, mismatch_num):\n",
    "    print(datetime.datetime.time(datetime.datetime.now()))\n",
    "    aligns = []  # Creates empty list to store alignments\n",
    "    pattern_length_list = []  # Creates empty list to store pattern lengths\n",
    "    reference_upper = reference.upper().replace(' ','')\n",
    "    reference_clean = re.sub('[^A-Z]+', '', reference_upper)\n",
    "    \n",
    "    for pattern in pattern_list:  \n",
    "        string_upper = pattern.upper().replace(' ','')  # Removes whitespace, converts to caps.\n",
    "        string_clean = re.sub('[^A-Z]+', '', string_upper)  # Uses a regex to remove char not a A-Z.\n",
    "        \n",
    "        if len(pattern) not in pattern_length_list:  \n",
    "            pattern_length_list.append(len(pattern))\n",
    "            \n",
    "            for i, nucleotide in enumerate(reference_clean):  \n",
    "                ref_chunk = reference_clean[i:i+len(pattern)]  \n",
    "                db.insert({'sequence': ref_chunk, 'index':i+1})  \n",
    "        aligns.append(pattern)     \n",
    "        all_matches = ''\n",
    "        if mismatch_num > 0:\n",
    "            for neighbor in neighbors(string_clean, mismatch_num):\n",
    "                matches = db.search(Query().sequence == neighbor)\n",
    "                matches = json.dumps(matches)    \n",
    "                all_matches += matches\n",
    "                #print(matches)\n",
    "        else:\n",
    "            matches = db.search(Query().sequence == string_clean\n",
    "            matches = json.dumps(matches)    \n",
    "            all_matches += matches\n",
    "        locations = re.findall(r'\\d+', all_matches)\n",
    "        list1 = [int(x) for x in locations]\n",
    "        list1.sort()\n",
    "        aligns.append(list1)\n",
    "    print(datetime.datetime.time(datetime.datetime.now()))\n",
    "    return(aligns)"
   ]
  },
  {
   "cell_type": "code",
   "execution_count": 506,
   "metadata": {
    "collapsed": true
   },
   "outputs": [],
   "source": [
    "db.purge()\n",
    "final_list = []\n",
    "working_list = []\n"
   ]
  },
  {
   "cell_type": "code",
   "execution_count": 507,
   "metadata": {
    "collapsed": false
   },
   "outputs": [
    {
     "name": "stdout",
     "output_type": "stream",
     "text": [
      "15:30:35.708530\n"
     ]
    },
    {
     "ename": "KeyboardInterrupt",
     "evalue": "",
     "output_type": "error",
     "traceback": [
      "\u001b[0;31m---------------------------------------------------------------------------\u001b[0m",
      "\u001b[0;31mKeyboardInterrupt\u001b[0m                         Traceback (most recent call last)",
      "\u001b[0;32m<ipython-input-507-479cb640a2bc>\u001b[0m in \u001b[0;36m<module>\u001b[0;34m()\u001b[0m\n\u001b[0;32m----> 1\u001b[0;31m \u001b[0mprint\u001b[0m\u001b[0;34m(\u001b[0m\u001b[0mpattern_find_tinydb\u001b[0m\u001b[0;34m(\u001b[0m\u001b[0mpattern_list\u001b[0m\u001b[0;34m,\u001b[0m \u001b[0mreference\u001b[0m\u001b[0;34m,\u001b[0m \u001b[0;36m1\u001b[0m\u001b[0;34m)\u001b[0m\u001b[0;34m)\u001b[0m\u001b[0;34m\u001b[0m\u001b[0m\n\u001b[0m\u001b[1;32m      2\u001b[0m \u001b[0;31m#cactaagcacacagagaataatgtctagaatctgagtgccatgttatcaaattgtactgagactcttgcagtcacacaggct\u001b[0m\u001b[0;34m\u001b[0m\u001b[0;34m\u001b[0m\u001b[0m\n",
      "\u001b[0;32m<ipython-input-505-813126fe1ef0>\u001b[0m in \u001b[0;36mpattern_find_tinydb\u001b[0;34m(pattern_list, reference, mismatch_num)\u001b[0m\n\u001b[1;32m     15\u001b[0m             \u001b[0;32mfor\u001b[0m \u001b[0mi\u001b[0m\u001b[0;34m,\u001b[0m \u001b[0mnucleotide\u001b[0m \u001b[0;32min\u001b[0m \u001b[0menumerate\u001b[0m\u001b[0;34m(\u001b[0m\u001b[0mreference_clean\u001b[0m\u001b[0;34m)\u001b[0m\u001b[0;34m:\u001b[0m\u001b[0;34m\u001b[0m\u001b[0m\n\u001b[1;32m     16\u001b[0m                 \u001b[0mref_chunk\u001b[0m \u001b[0;34m=\u001b[0m \u001b[0mreference_clean\u001b[0m\u001b[0;34m[\u001b[0m\u001b[0mi\u001b[0m\u001b[0;34m:\u001b[0m\u001b[0mi\u001b[0m\u001b[0;34m+\u001b[0m\u001b[0mlen\u001b[0m\u001b[0;34m(\u001b[0m\u001b[0mpattern\u001b[0m\u001b[0;34m)\u001b[0m\u001b[0;34m]\u001b[0m\u001b[0;34m\u001b[0m\u001b[0m\n\u001b[0;32m---> 17\u001b[0;31m                 \u001b[0mdb\u001b[0m\u001b[0;34m.\u001b[0m\u001b[0minsert\u001b[0m\u001b[0;34m(\u001b[0m\u001b[0;34m{\u001b[0m\u001b[0;34m'sequence'\u001b[0m\u001b[0;34m:\u001b[0m \u001b[0mref_chunk\u001b[0m\u001b[0;34m,\u001b[0m \u001b[0;34m'index'\u001b[0m\u001b[0;34m:\u001b[0m\u001b[0mi\u001b[0m\u001b[0;34m+\u001b[0m\u001b[0;36m1\u001b[0m\u001b[0;34m}\u001b[0m\u001b[0;34m)\u001b[0m\u001b[0;34m\u001b[0m\u001b[0m\n\u001b[0m\u001b[1;32m     18\u001b[0m         \u001b[0maligns\u001b[0m\u001b[0;34m.\u001b[0m\u001b[0mappend\u001b[0m\u001b[0;34m(\u001b[0m\u001b[0mpattern\u001b[0m\u001b[0;34m)\u001b[0m\u001b[0;34m\u001b[0m\u001b[0m\n\u001b[1;32m     19\u001b[0m         \u001b[0mall_matches\u001b[0m \u001b[0;34m=\u001b[0m \u001b[0;34m''\u001b[0m\u001b[0;34m\u001b[0m\u001b[0m\n",
      "\u001b[0;31mKeyboardInterrupt\u001b[0m: "
     ]
    }
   ],
   "source": [
    "print(pattern_find_tinydb(pattern_list, reference, 0))\n",
    "#cactaagcacacagagaataatgtctagaatctgagtgccatgttatcaaattgtactgagactcttgcagtcacacaggct"
   ]
  },
  {
   "cell_type": "code",
   "execution_count": 413,
   "metadata": {
    "collapsed": true
   },
   "outputs": [],
   "source": [
    "def pattern_fast(pattern_list, reference):\n",
    "    for pattern in pattern_list:\n",
    "        if pattern in reference:\n",
    "            print('yes')\n",
    "            return 'yes'"
   ]
  },
  {
   "cell_type": "code",
   "execution_count": 414,
   "metadata": {
    "collapsed": false
   },
   "outputs": [
    {
     "name": "stdout",
     "output_type": "stream",
     "text": [
      "None\n"
     ]
    }
   ],
   "source": [
    "print(pattern_fast(pattern_list, reference))"
   ]
  },
  {
   "cell_type": "code",
   "execution_count": null,
   "metadata": {
    "collapsed": true,
    "nbpresent": {
     "id": "46369960-9a5c-402f-a079-0ae83001e143"
    }
   },
   "outputs": [],
   "source": [
    "from tinydb import TinyDB, Query\n",
    "import re\n",
    "import json\n",
    "import re"
   ]
  },
  {
   "cell_type": "code",
   "execution_count": 17,
   "metadata": {
    "collapsed": false,
    "nbpresent": {
     "id": "5ff58084-9a57-4292-acd3-cb453482475e"
    }
   },
   "outputs": [],
   "source": [
    "reference = 'cactaagcacacagagaataatgtctagaatctgagtgccatgttatcaaattgtactgagactcttgcagtcacacaggct'\n",
    "pattern_list = ['acac','cag', 'gtctagaat', '']\n",
    "pattern_list_2 = ['*BIOTIN*-ACAC', 'TGTC', 'aaa', 'act gag act ctt gc']\n",
    "pattern_length_list = []"
   ]
  },
  {
   "cell_type": "code",
   "execution_count": 19,
   "metadata": {
    "collapsed": false,
    "nbpresent": {
     "id": "0753d581-2842-4591-a43a-4c51b2822380"
    }
   },
   "outputs": [
    {
     "name": "stdout",
     "output_type": "stream",
     "text": [
      "[{'index': 9, 'sequence': 'acac'}, {'index': 74, 'sequence': 'acac'}]\n",
      "[{'index': 12, 'sequence': 'cag'}, {'index': 69, 'sequence': 'cag'}, {'index': 77, 'sequence': 'cag'}]\n"
     ]
    }
   ],
   "source": [
    "for pattern in pattern_list:\n",
    "    pattern_length = len(pattern)\n",
    "    if pattern_length not in pattern_length_list:\n",
    "        pattern_length_list.append(len(pattern))\n",
    "        for i, nucleotide in enumerate(reference):\n",
    "            ref_chunk = reference[i:i+pattern_length]\n",
    "            db.insert({'sequence': ref_chunk, 'index':i+1})\n",
    "            #+1 because of 0 indexing. This will give teh actual start site of the pattern.\n",
    "    sequence_match = Query()\n",
    "    print(db.search(sequence_match.sequence==pattern))"
   ]
  },
  {
   "cell_type": "code",
   "execution_count": 55,
   "metadata": {
    "collapsed": false,
    "nbpresent": {
     "id": "ca44b925-9b08-40c6-bfa8-46f0853c5d89"
    }
   },
   "outputs": [
    {
     "ename": "NameError",
     "evalue": "name 'pattern_length_list' is not defined",
     "output_type": "error",
     "traceback": [
      "\u001b[0;31m---------------------------------------------------------------------------\u001b[0m",
      "\u001b[0;31mNameError\u001b[0m                                 Traceback (most recent call last)",
      "\u001b[0;32m<ipython-input-55-e5d184f160e6>\u001b[0m in \u001b[0;36m<module>\u001b[0;34m()\u001b[0m\n\u001b[1;32m     21\u001b[0m         \u001b[0;31m#matching_dict.add(db.search(sequence_match.sequence==pattern))\u001b[0m\u001b[0;34m\u001b[0m\u001b[0;34m\u001b[0m\u001b[0m\n\u001b[1;32m     22\u001b[0m     \u001b[0;32mreturn\u001b[0m\u001b[0;34m(\u001b[0m\u001b[0mmatching\u001b[0m\u001b[0;34m)\u001b[0m\u001b[0;34m\u001b[0m\u001b[0m\n\u001b[0;32m---> 23\u001b[0;31m \u001b[0mprint\u001b[0m\u001b[0;34m(\u001b[0m\u001b[0mpattern_find_tinydb\u001b[0m\u001b[0;34m(\u001b[0m\u001b[0mpattern_list\u001b[0m\u001b[0;34m,\u001b[0m \u001b[0mreference\u001b[0m\u001b[0;34m)\u001b[0m\u001b[0;34m)\u001b[0m\u001b[0;34m\u001b[0m\u001b[0m\n\u001b[0m",
      "\u001b[0;32m<ipython-input-55-e5d184f160e6>\u001b[0m in \u001b[0;36mpattern_find_tinydb\u001b[0;34m(pattern_list, reference)\u001b[0m\n\u001b[1;32m      4\u001b[0m     \u001b[0;32mfor\u001b[0m \u001b[0mpattern\u001b[0m \u001b[0;32min\u001b[0m \u001b[0mpattern_list\u001b[0m\u001b[0;34m:\u001b[0m\u001b[0;34m\u001b[0m\u001b[0m\n\u001b[1;32m      5\u001b[0m         \u001b[0mpattern_length\u001b[0m \u001b[0;34m=\u001b[0m \u001b[0mlen\u001b[0m\u001b[0;34m(\u001b[0m\u001b[0mpattern\u001b[0m\u001b[0;34m)\u001b[0m\u001b[0;34m\u001b[0m\u001b[0m\n\u001b[0;32m----> 6\u001b[0;31m         \u001b[0;32mif\u001b[0m \u001b[0mpattern_length\u001b[0m \u001b[0;32mnot\u001b[0m \u001b[0;32min\u001b[0m \u001b[0mpattern_length_list\u001b[0m\u001b[0;34m:\u001b[0m\u001b[0;34m\u001b[0m\u001b[0m\n\u001b[0m\u001b[1;32m      7\u001b[0m             \u001b[0mpattern_length_list\u001b[0m\u001b[0;34m.\u001b[0m\u001b[0mappend\u001b[0m\u001b[0;34m(\u001b[0m\u001b[0mlen\u001b[0m\u001b[0;34m(\u001b[0m\u001b[0mpattern\u001b[0m\u001b[0;34m)\u001b[0m\u001b[0;34m)\u001b[0m\u001b[0;34m\u001b[0m\u001b[0m\n\u001b[1;32m      8\u001b[0m             \u001b[0;32mfor\u001b[0m \u001b[0mi\u001b[0m\u001b[0;34m,\u001b[0m \u001b[0mnucleotide\u001b[0m \u001b[0;32min\u001b[0m \u001b[0menumerate\u001b[0m\u001b[0;34m(\u001b[0m\u001b[0mreference\u001b[0m\u001b[0;34m)\u001b[0m\u001b[0;34m:\u001b[0m\u001b[0;34m\u001b[0m\u001b[0m\n",
      "\u001b[0;31mNameError\u001b[0m: name 'pattern_length_list' is not defined"
     ]
    }
   ],
   "source": [
    "def pattern_find_tinydb(pattern_list, reference):\n",
    "    matching = ''\n",
    "    #matching_dict = {}\n",
    "    for pattern in pattern_list:\n",
    "        pattern_length = len(pattern)\n",
    "        if pattern_length not in pattern_length_list:\n",
    "            pattern_length_list.append(len(pattern))\n",
    "            for i, nucleotide in enumerate(reference):\n",
    "                ref_chunk = reference[i:i+pattern_length]\n",
    "                db.insert({'sequence': ref_chunk, 'index':i+1})\n",
    "                #+1 because of 0 indexing. This will give teh actual start site of the pattern.\n",
    "        sequence_match = Query()\n",
    "        matches = db.search(sequence_match.sequence==pattern)\n",
    "        matches = json.dumps(matches)\n",
    "        #print(matches)\n",
    "        locations = re.findall(r'\\d+', matches)\n",
    "        #print(type(locations))\n",
    "        #print([int(loc) for loc in matches.split(\" \") if loc.isdigit()])\n",
    "        #print(\"{} is found at {}\".format(pattern, locations))\n",
    "        #matching += str((db.search(sequence_match.sequence==pattern)))\n",
    "        #matching_dict.add(db.search(sequence_match.sequence==pattern))\n",
    "    return(matching)\n",
    "print(pattern_find_tinydb(pattern_list, reference))"
   ]
  },
  {
   "cell_type": "code",
   "execution_count": 23,
   "metadata": {
    "collapsed": true,
    "nbpresent": {
     "id": "ae352389-7eb9-489f-8c7e-630c4e2e3cd5"
    }
   },
   "outputs": [],
   "source": [
    "def pattern_find_in(pattern_list, refernece):\n",
    "    pattern_match = []\n",
    "    for pattern in pattern_list:\n",
    "        if pattern in reference:\n",
    "            pattern_match.append(pattern)\n",
    "    return(pattern_match)"
   ]
  },
  {
   "cell_type": "code",
   "execution_count": 24,
   "metadata": {
    "collapsed": true,
    "nbpresent": {
     "id": "87281c68-69df-40f8-90db-7771fd9fc69a"
    }
   },
   "outputs": [],
   "source": [
    "from timeit import timeit"
   ]
  },
  {
   "cell_type": "code",
   "execution_count": 25,
   "metadata": {
    "collapsed": false,
    "nbpresent": {
     "id": "204fc518-dc5a-4c27-a122-f293231a05a5"
    }
   },
   "outputs": [
    {
     "name": "stdout",
     "output_type": "stream",
     "text": [
      "\n"
     ]
    }
   ],
   "source": [
    "print(pattern_find_tinydb(pattern_list, reference))\n",
    "print (\"pattern_find_tinydb:{}\".format(timeit(\n",
    "                                    \"pattern_find_tinydb(pattern_list, reference)\",\n",
    "                                    \"from __main__ import pattern_find_tinydb;\"\n",
    "                                    \"reference='cactaagcacacagagaataatgtctagaatctgagtgccatgttatcaaattgtactgagactcttgcagtcacacaggct';\" \n",
    "                                    \"pattern_list=['acac','cag'] \"\n",
    "                                    , number=100000)))\n",
    "\n",
    "print(pattern_find_in(pattern_list, reference))\n",
    "print (\"pattern_find_in:{}\".format(timeit(\n",
    "                                    \"pattern_find_in(pattern_list, reference)\",\n",
    "                                    \"from __main__ import pattern_find_in;\"\n",
    "                                    \"reference='cactaagcacacagagaataatgtctagaatctgagtgccatgttatcaaattgtactgagactcttgcagtcacacaggct';\" \n",
    "                                    \"pattern_list=['acac','cag'] \"\n",
    "                                    , number=100000)))\n",
    "\n",
    "print(approximate_patterns(reference, pattern_list, 0))\n",
    "print (\"approximate_patterns:{}\".format(timeit(\n",
    "                                    \"approximate_patterns(reference, pattern_list, 0)\",\n",
    "                                    \"from __main__ import approximate_patterns;\"\n",
    "                                    \"reference='cactaagcacacagagaataatgtctagaatctgagtgccatgttatcaaattgtactgagactcttgcagtcacacaggct';\" \n",
    "                                    \"pattern_list=['acac','cag'] \"\n",
    "                                    , number=100000)))"
   ]
  },
  {
   "cell_type": "code",
   "execution_count": 34,
   "metadata": {
    "collapsed": false,
    "nbpresent": {
     "id": "780980fa-1e39-4539-afee-e1662803bcf5"
    }
   },
   "outputs": [
    {
     "name": "stdout",
     "output_type": "stream",
     "text": [
      "[4]\n",
      "[{'index': 1, 'sequence': 'cact'}, {'index': 2, 'sequence': 'acta'}, {'index': 3, 'sequence': 'ctaa'}, {'index': 4, 'sequence': 'taag'}, {'index': 5, 'sequence': 'aagc'}, {'index': 6, 'sequence': 'agca'}, {'index': 7, 'sequence': 'gcac'}, {'index': 8, 'sequence': 'caca'}, {'index': 9, 'sequence': 'acac'}, {'index': 10, 'sequence': 'caca'}, {'index': 11, 'sequence': 'acag'}, {'index': 12, 'sequence': 'caga'}, {'index': 13, 'sequence': 'agag'}, {'index': 14, 'sequence': 'gaga'}, {'index': 15, 'sequence': 'agaa'}, {'index': 16, 'sequence': 'gaat'}, {'index': 17, 'sequence': 'aata'}, {'index': 18, 'sequence': 'ataa'}, {'index': 19, 'sequence': 'taat'}, {'index': 20, 'sequence': 'aatg'}, {'index': 21, 'sequence': 'atgt'}, {'index': 22, 'sequence': 'tgtc'}, {'index': 23, 'sequence': 'gtct'}, {'index': 24, 'sequence': 'tcta'}, {'index': 25, 'sequence': 'ctag'}, {'index': 26, 'sequence': 'taga'}, {'index': 27, 'sequence': 'agaa'}, {'index': 28, 'sequence': 'gaat'}, {'index': 29, 'sequence': 'aatc'}, {'index': 30, 'sequence': 'atct'}, {'index': 31, 'sequence': 'tctg'}, {'index': 32, 'sequence': 'ctga'}, {'index': 33, 'sequence': 'tgag'}, {'index': 34, 'sequence': 'gagt'}, {'index': 35, 'sequence': 'agtg'}, {'index': 36, 'sequence': 'gtgc'}, {'index': 37, 'sequence': 'tgcc'}, {'index': 38, 'sequence': 'gcca'}, {'index': 39, 'sequence': 'ccat'}, {'index': 40, 'sequence': 'catg'}, {'index': 41, 'sequence': 'atgt'}, {'index': 42, 'sequence': 'tgtt'}, {'index': 43, 'sequence': 'gtta'}, {'index': 44, 'sequence': 'ttat'}, {'index': 45, 'sequence': 'tatc'}, {'index': 46, 'sequence': 'atca'}, {'index': 47, 'sequence': 'tcaa'}, {'index': 48, 'sequence': 'caaa'}, {'index': 49, 'sequence': 'aaat'}, {'index': 50, 'sequence': 'aatt'}, {'index': 51, 'sequence': 'attg'}, {'index': 52, 'sequence': 'ttgt'}, {'index': 53, 'sequence': 'tgta'}, {'index': 54, 'sequence': 'gtac'}, {'index': 55, 'sequence': 'tact'}, {'index': 56, 'sequence': 'actg'}, {'index': 57, 'sequence': 'ctga'}, {'index': 58, 'sequence': 'tgag'}, {'index': 59, 'sequence': 'gaga'}, {'index': 60, 'sequence': 'agac'}, {'index': 61, 'sequence': 'gact'}, {'index': 62, 'sequence': 'actc'}, {'index': 63, 'sequence': 'ctct'}, {'index': 64, 'sequence': 'tctt'}, {'index': 65, 'sequence': 'cttg'}, {'index': 66, 'sequence': 'ttgc'}, {'index': 67, 'sequence': 'tgca'}, {'index': 68, 'sequence': 'gcag'}, {'index': 69, 'sequence': 'cagt'}, {'index': 70, 'sequence': 'agtc'}, {'index': 71, 'sequence': 'gtca'}, {'index': 72, 'sequence': 'tcac'}, {'index': 73, 'sequence': 'caca'}, {'index': 74, 'sequence': 'acac'}, {'index': 75, 'sequence': 'caca'}, {'index': 76, 'sequence': 'acag'}, {'index': 77, 'sequence': 'cagg'}, {'index': 78, 'sequence': 'aggc'}, {'index': 79, 'sequence': 'ggct'}, {'index': 80, 'sequence': 'gct'}, {'index': 81, 'sequence': 'ct'}, {'index': 82, 'sequence': 't'}]\n"
     ]
    }
   ],
   "source": [
    "print(pattern_length_list)\n",
    "print(db.all())"
   ]
  },
  {
   "cell_type": "code",
   "execution_count": 15,
   "metadata": {
    "collapsed": false,
    "nbpresent": {
     "id": "f20f41fd-c3f0-4b4a-89d3-f20ffaef2647"
    }
   },
   "outputs": [
    {
     "name": "stdout",
     "output_type": "stream",
     "text": [
      "[]\n"
     ]
    }
   ],
   "source": [
    "db.purge()\n",
    "pattern_length_list = []\n",
    "print(db.all())"
   ]
  },
  {
   "cell_type": "code",
   "execution_count": 41,
   "metadata": {
    "collapsed": false,
    "nbpresent": {
     "id": "16b6890c-a300-4124-a4ab-f6313e15b9f3"
    }
   },
   "outputs": [],
   "source": [
    "# def reference_dict(pattern_length, reference):\n",
    "#     for i, nucleotide in enumerate(reference):\n",
    "#         query = reference[i:i+pattern_length]\n",
    "#         query_number = pattern_to_number(query)\n",
    "#         if len(query) == pattern_length and query not in query_dict:\n",
    "#             query_dict[query]=str(i+1)+','\n",
    "#             #+1 because of 0 indexing. This will give teh actual start site of the pattern.\n",
    "#         elif len(query) == pattern_length:\n",
    "#             query_dict[query]+=str(i+1)+','\n",
    "            \n",
    "#     db.insert(query_dict)\n",
    "#     return (db.all())"
   ]
  },
  {
   "cell_type": "code",
   "execution_count": 42,
   "metadata": {
    "collapsed": true,
    "nbpresent": {
     "id": "5a421e7d-4e4c-4122-9e74-2869053c8640"
    }
   },
   "outputs": [],
   "source": [
    "def symbol_to_number(symbol):\n",
    "    dict_symbol = {'A':0, 'C':1, 'G':2, 'T':3}\n",
    "    return dict_symbol[symbol]\n",
    "\n",
    "def pattern_to_number(pattern):\n",
    "    pattern = pattern.upper().replace(\" \",\"\")\n",
    "    regex = re.compile('[^agctuAGCTU]')\n",
    "    pattern = regex.sub('', pattern)\n",
    "    if not pattern:\n",
    "        return 0\n",
    "    symbol = pattern[-1]\n",
    "    prefix = pattern[0:-1]\n",
    "    return 4*pattern_to_number(prefix) + symbol_to_number(symbol)"
   ]
  },
  {
   "cell_type": "code",
   "execution_count": null,
   "metadata": {
    "collapsed": true,
    "nbpresent": {
     "id": "36a4ad4c-91f5-43da-b7a9-fa15bd044e2b"
    }
   },
   "outputs": [],
   "source": []
  },
  {
   "cell_type": "code",
   "execution_count": null,
   "metadata": {
    "collapsed": true,
    "nbpresent": {
     "id": "cb3732a6-624b-44ad-a8d2-665c1d3d854c"
    }
   },
   "outputs": [],
   "source": []
  },
  {
   "cell_type": "code",
   "execution_count": null,
   "metadata": {
    "collapsed": true,
    "nbpresent": {
     "id": "5ebb90cb-5c8e-4066-9d27-e2bdc06f8fe1"
    }
   },
   "outputs": [],
   "source": []
  }
 ],
 "metadata": {
  "anaconda-cloud": {},
  "celltoolbar": "Slideshow",
  "kernelspec": {
   "display_name": "Python [nov2016]",
   "language": "python",
   "name": "Python [nov2016]"
  },
  "language_info": {
   "codemirror_mode": {
    "name": "ipython",
    "version": 3
   },
   "file_extension": ".py",
   "mimetype": "text/x-python",
   "name": "python",
   "nbconvert_exporter": "python",
   "pygments_lexer": "ipython3",
   "version": "3.5.2"
  }
 },
 "nbformat": 4,
 "nbformat_minor": 0
}
