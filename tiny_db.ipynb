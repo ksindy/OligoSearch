{
 "cells": [
  {
   "cell_type": "markdown",
   "metadata": {
    "collapsed": true,
    "slideshow": {
     "slide_type": "slide"
    }
   },
   "source": [
    "# TinyDB in action!"
   ]
  },
  {
   "cell_type": "markdown",
   "metadata": {
    "slideshow": {
     "slide_type": "fragment"
    }
   },
   "source": [
    "### TinyDB helped make my alignment algorithm faster."
   ]
  },
  {
   "cell_type": "markdown",
   "metadata": {
    "slideshow": {
     "slide_type": "skip"
    }
   },
   "source": [
    "---"
   ]
  },
  {
   "cell_type": "markdown",
   "metadata": {
    "slideshow": {
     "slide_type": "slide"
    }
   },
   "source": [
    "### An example of an alignment:\n",
    "\n",
    "### Does the pattern \"cac\" occur in the following sequence?\n",
    "\n",
    "### cactaagcacacagagaata"
   ]
  },
  {
   "cell_type": "markdown",
   "metadata": {
    "slideshow": {
     "slide_type": "fragment"
    }
   },
   "source": [
    "### yes!\n",
    "\n",
    "### *cac* taag *cacac* agagaata"
   ]
  },
  {
   "cell_type": "markdown",
   "metadata": {
    "slideshow": {
     "slide_type": "skip"
    }
   },
   "source": [
    "---"
   ]
  },
  {
   "cell_type": "markdown",
   "metadata": {
    "slideshow": {
     "slide_type": "slide"
    }
   },
   "source": [
    "### Here is a fast algroithm to determine if a pattern is found in a reference."
   ]
  },
  {
   "cell_type": "code",
   "execution_count": 1,
   "metadata": {
    "collapsed": true,
    "slideshow": {
     "slide_type": "fragment"
    }
   },
   "outputs": [],
   "source": [
    "def find_in(reference, pattern):\n",
    "    if pattern in reference:\n",
    "        return \"Yes\""
   ]
  },
  {
   "cell_type": "code",
   "execution_count": 2,
   "metadata": {
    "collapsed": true,
    "slideshow": {
     "slide_type": "fragment"
    }
   },
   "outputs": [],
   "source": [
    "reference = 'cactaagcacacagagaataatgtctagaatctgagtgccatgttatcaaattgtactgagactcttgcagtcacacaggct'\n",
    "pattern = 'cac'"
   ]
  },
  {
   "cell_type": "code",
   "execution_count": 3,
   "metadata": {
    "collapsed": false,
    "slideshow": {
     "slide_type": "fragment"
    }
   },
   "outputs": [
    {
     "data": {
      "text/plain": [
       "'Yes'"
      ]
     },
     "execution_count": 3,
     "metadata": {},
     "output_type": "execute_result"
    }
   ],
   "source": [
    "find_in(reference, pattern)"
   ]
  },
  {
   "cell_type": "markdown",
   "metadata": {
    "slideshow": {
     "slide_type": "fragment"
    }
   },
   "source": [
    "### Great! But this does not give us location information or allow us to find fuzzy alignments. "
   ]
  },
  {
   "cell_type": "code",
   "execution_count": 4,
   "metadata": {
    "collapsed": true
   },
   "outputs": [],
   "source": [
    "def mismatch(string1, string2):\n",
    "    mismatches = 0\n",
    "    for (nucleotide1, nucleotide2) in zip(string1, string2):\n",
    "        if nucleotide1 != nucleotide2:\n",
    "            mismatches += 1\n",
    "    return(mismatches)"
   ]
  },
  {
   "cell_type": "code",
   "execution_count": 13,
   "metadata": {
    "collapsed": true
   },
   "outputs": [],
   "source": [
    "def approximate_patterns(text, pattern, max_mismatches):\n",
    "    pattern_location = []\n",
    "    for i, base in enumerate(text):\n",
    "        query_pattern = text[i:i+len(pattern)]\n",
    "        if mismatch(query_pattern, pattern) <= max_mismatches:\n",
    "            pattern_location.append(i)\n",
    "    return(pattern_location)"
   ]
  },
  {
   "cell_type": "code",
   "execution_count": 14,
   "metadata": {
    "collapsed": false
   },
   "outputs": [
    {
     "data": {
      "text/plain": [
       "[0, 7, 9, 72, 74]"
      ]
     },
     "execution_count": 14,
     "metadata": {},
     "output_type": "execute_result"
    }
   ],
   "source": [
    "approximate_patterns(reference, pattern, 0)"
   ]
  },
  {
   "cell_type": "code",
   "execution_count": null,
   "metadata": {
    "collapsed": true
   },
   "outputs": [],
   "source": [
    "def approximate_patterns(text, pattern_list, max_mismatches):\n",
    "    text = text.upper().replace(\" \",\"\")\n",
    "    pattern_location = ''\n",
    "    for pattern in pattern_list:\n",
    "        \n",
    "        for i, base in enumerate(text):\n",
    "            query_pattern = text[i:i+len(pattern)]\n",
    "            mismatches = 0\n",
    "            for (nucleotide1, nucleotide2) in zip(pattern, query_pattern):\n",
    "                if nucleotide1 != nucleotide2:\n",
    "                    mismatches += 1\n",
    "                    \n",
    "            if mismatches <= max_mismatches:\n",
    "                pattern_location += str(i+1)+','+'\\t'\n",
    "\n",
    "    return(pattern_location)"
   ]
  },
  {
   "cell_type": "code",
   "execution_count": null,
   "metadata": {
    "collapsed": true
   },
   "outputs": [],
   "source": [
    "from tinydb import TinyDB, Query\n",
    "import re\n",
    "import json\n",
    "import re"
   ]
  },
  {
   "cell_type": "code",
   "execution_count": 17,
   "metadata": {
    "collapsed": false
   },
   "outputs": [],
   "source": [
    "reference = 'cactaagcacacagagaataatgtctagaatctgagtgccatgttatcaaattgtactgagactcttgcagtcacacaggct'\n",
    "pattern_list = ['acac','cag']\n",
    "pattern_list_2 = ['*BIOTIN*-ACAC', 'TGTC', 'aaa', 'act gag act ctt gc']\n",
    "pattern_length_list = []"
   ]
  },
  {
   "cell_type": "code",
   "execution_count": 18,
   "metadata": {
    "collapsed": true
   },
   "outputs": [],
   "source": [
    "db = TinyDB('/Users/ksindy/PycharmProjects/oligo_search_website/pratice_db.json')"
   ]
  },
  {
   "cell_type": "code",
   "execution_count": 19,
   "metadata": {
    "collapsed": false
   },
   "outputs": [
    {
     "name": "stdout",
     "output_type": "stream",
     "text": [
      "[{'index': 9, 'sequence': 'acac'}, {'index': 74, 'sequence': 'acac'}]\n",
      "[{'index': 12, 'sequence': 'cag'}, {'index': 69, 'sequence': 'cag'}, {'index': 77, 'sequence': 'cag'}]\n"
     ]
    }
   ],
   "source": [
    "for pattern in pattern_list:\n",
    "    pattern_length = len(pattern)\n",
    "    if pattern_length not in pattern_length_list:\n",
    "        pattern_length_list.append(len(pattern))\n",
    "        for i, nucleotide in enumerate(reference):\n",
    "            ref_chunk = reference[i:i+pattern_length]\n",
    "            db.insert({'sequence': ref_chunk, 'index':i+1})\n",
    "            #+1 because of 0 indexing. This will give teh actual start site of the pattern.\n",
    "    sequence_match = Query()\n",
    "    print(db.search(sequence_match.sequence==pattern))"
   ]
  },
  {
   "cell_type": "code",
   "execution_count": 20,
   "metadata": {
    "collapsed": false
   },
   "outputs": [
    {
     "name": "stdout",
     "output_type": "stream",
     "text": [
      "\n"
     ]
    }
   ],
   "source": [
    "def pattern_find_tinydb(pattern_list, reference):\n",
    "    matching = ''\n",
    "    #matching_dict = {}\n",
    "    for pattern in pattern_list:\n",
    "        pattern_length = len(pattern)\n",
    "        if pattern_length not in pattern_length_list:\n",
    "            pattern_length_list.append(len(pattern))\n",
    "            for i, nucleotide in enumerate(reference):\n",
    "                ref_chunk = reference[i:i+pattern_length]\n",
    "                db.insert({'sequence': ref_chunk, 'index':i+1})\n",
    "                #+1 because of 0 indexing. This will give teh actual start site of the pattern.\n",
    "        sequence_match = Query()\n",
    "        matches = db.search(sequence_match.sequence==pattern)\n",
    "        matches = json.dumps(matches)\n",
    "        #print(matches)\n",
    "        locations = re.findall(r'\\d+', matches)\n",
    "        #print(type(locations))\n",
    "        #print([int(loc) for loc in matches.split(\" \") if loc.isdigit()])\n",
    "        #print(\"{} is found at {}\".format(pattern, locations))\n",
    "        #matching += str((db.search(sequence_match.sequence==pattern)))\n",
    "        #matching_dict.add(db.search(sequence_match.sequence==pattern))\n",
    "    return(matching)\n",
    "print(pattern_find_tinydb(pattern_list, reference))"
   ]
  },
  {
   "cell_type": "code",
   "execution_count": 21,
   "metadata": {
    "collapsed": true
   },
   "outputs": [],
   "source": []
  },
  {
   "cell_type": "code",
   "execution_count": 22,
   "metadata": {
    "collapsed": true
   },
   "outputs": [],
   "source": []
  },
  {
   "cell_type": "code",
   "execution_count": 23,
   "metadata": {
    "collapsed": true
   },
   "outputs": [],
   "source": [
    "def pattern_find_in(pattern_list, refernece):\n",
    "    pattern_match = []\n",
    "    for pattern in pattern_list:\n",
    "        if pattern in reference:\n",
    "            pattern_match.append(pattern)\n",
    "    return(pattern_match)"
   ]
  },
  {
   "cell_type": "code",
   "execution_count": 24,
   "metadata": {
    "collapsed": true
   },
   "outputs": [],
   "source": [
    "from timeit import timeit"
   ]
  },
  {
   "cell_type": "code",
   "execution_count": 25,
   "metadata": {
    "collapsed": false
   },
   "outputs": [
    {
     "name": "stdout",
     "output_type": "stream",
     "text": [
      "\n"
     ]
    }
   ],
   "source": [
    "print(pattern_find_tinydb(pattern_list, reference))\n",
    "print (\"pattern_find_tinydb:{}\".format(timeit(\n",
    "                                    \"pattern_find_tinydb(pattern_list, reference)\",\n",
    "                                    \"from __main__ import pattern_find_tinydb;\"\n",
    "                                    \"reference='cactaagcacacagagaataatgtctagaatctgagtgccatgttatcaaattgtactgagactcttgcagtcacacaggct';\" \n",
    "                                    \"pattern_list=['acac','cag'] \"\n",
    "                                    , number=100000)))\n",
    "\n",
    "print(pattern_find_in(pattern_list, reference))\n",
    "print (\"pattern_find_in:{}\".format(timeit(\n",
    "                                    \"pattern_find_in(pattern_list, reference)\",\n",
    "                                    \"from __main__ import pattern_find_in;\"\n",
    "                                    \"reference='cactaagcacacagagaataatgtctagaatctgagtgccatgttatcaaattgtactgagactcttgcagtcacacaggct';\" \n",
    "                                    \"pattern_list=['acac','cag'] \"\n",
    "                                    , number=100000)))\n",
    "\n",
    "print(approximate_patterns(reference, pattern_list, 0))\n",
    "print (\"approximate_patterns:{}\".format(timeit(\n",
    "                                    \"approximate_patterns(reference, pattern_list, 0)\",\n",
    "                                    \"from __main__ import approximate_patterns;\"\n",
    "                                    \"reference='cactaagcacacagagaataatgtctagaatctgagtgccatgttatcaaattgtactgagactcttgcagtcacacaggct';\" \n",
    "                                    \"pattern_list=['acac','cag'] \"\n",
    "                                    , number=100000)))"
   ]
  },
  {
   "cell_type": "code",
   "execution_count": 34,
   "metadata": {
    "collapsed": false
   },
   "outputs": [
    {
     "name": "stdout",
     "output_type": "stream",
     "text": [
      "[4]\n",
      "[{'index': 1, 'sequence': 'cact'}, {'index': 2, 'sequence': 'acta'}, {'index': 3, 'sequence': 'ctaa'}, {'index': 4, 'sequence': 'taag'}, {'index': 5, 'sequence': 'aagc'}, {'index': 6, 'sequence': 'agca'}, {'index': 7, 'sequence': 'gcac'}, {'index': 8, 'sequence': 'caca'}, {'index': 9, 'sequence': 'acac'}, {'index': 10, 'sequence': 'caca'}, {'index': 11, 'sequence': 'acag'}, {'index': 12, 'sequence': 'caga'}, {'index': 13, 'sequence': 'agag'}, {'index': 14, 'sequence': 'gaga'}, {'index': 15, 'sequence': 'agaa'}, {'index': 16, 'sequence': 'gaat'}, {'index': 17, 'sequence': 'aata'}, {'index': 18, 'sequence': 'ataa'}, {'index': 19, 'sequence': 'taat'}, {'index': 20, 'sequence': 'aatg'}, {'index': 21, 'sequence': 'atgt'}, {'index': 22, 'sequence': 'tgtc'}, {'index': 23, 'sequence': 'gtct'}, {'index': 24, 'sequence': 'tcta'}, {'index': 25, 'sequence': 'ctag'}, {'index': 26, 'sequence': 'taga'}, {'index': 27, 'sequence': 'agaa'}, {'index': 28, 'sequence': 'gaat'}, {'index': 29, 'sequence': 'aatc'}, {'index': 30, 'sequence': 'atct'}, {'index': 31, 'sequence': 'tctg'}, {'index': 32, 'sequence': 'ctga'}, {'index': 33, 'sequence': 'tgag'}, {'index': 34, 'sequence': 'gagt'}, {'index': 35, 'sequence': 'agtg'}, {'index': 36, 'sequence': 'gtgc'}, {'index': 37, 'sequence': 'tgcc'}, {'index': 38, 'sequence': 'gcca'}, {'index': 39, 'sequence': 'ccat'}, {'index': 40, 'sequence': 'catg'}, {'index': 41, 'sequence': 'atgt'}, {'index': 42, 'sequence': 'tgtt'}, {'index': 43, 'sequence': 'gtta'}, {'index': 44, 'sequence': 'ttat'}, {'index': 45, 'sequence': 'tatc'}, {'index': 46, 'sequence': 'atca'}, {'index': 47, 'sequence': 'tcaa'}, {'index': 48, 'sequence': 'caaa'}, {'index': 49, 'sequence': 'aaat'}, {'index': 50, 'sequence': 'aatt'}, {'index': 51, 'sequence': 'attg'}, {'index': 52, 'sequence': 'ttgt'}, {'index': 53, 'sequence': 'tgta'}, {'index': 54, 'sequence': 'gtac'}, {'index': 55, 'sequence': 'tact'}, {'index': 56, 'sequence': 'actg'}, {'index': 57, 'sequence': 'ctga'}, {'index': 58, 'sequence': 'tgag'}, {'index': 59, 'sequence': 'gaga'}, {'index': 60, 'sequence': 'agac'}, {'index': 61, 'sequence': 'gact'}, {'index': 62, 'sequence': 'actc'}, {'index': 63, 'sequence': 'ctct'}, {'index': 64, 'sequence': 'tctt'}, {'index': 65, 'sequence': 'cttg'}, {'index': 66, 'sequence': 'ttgc'}, {'index': 67, 'sequence': 'tgca'}, {'index': 68, 'sequence': 'gcag'}, {'index': 69, 'sequence': 'cagt'}, {'index': 70, 'sequence': 'agtc'}, {'index': 71, 'sequence': 'gtca'}, {'index': 72, 'sequence': 'tcac'}, {'index': 73, 'sequence': 'caca'}, {'index': 74, 'sequence': 'acac'}, {'index': 75, 'sequence': 'caca'}, {'index': 76, 'sequence': 'acag'}, {'index': 77, 'sequence': 'cagg'}, {'index': 78, 'sequence': 'aggc'}, {'index': 79, 'sequence': 'ggct'}, {'index': 80, 'sequence': 'gct'}, {'index': 81, 'sequence': 'ct'}, {'index': 82, 'sequence': 't'}]\n"
     ]
    }
   ],
   "source": [
    "print(pattern_length_list)\n",
    "print(db.all())"
   ]
  },
  {
   "cell_type": "code",
   "execution_count": 15,
   "metadata": {
    "collapsed": false
   },
   "outputs": [
    {
     "name": "stdout",
     "output_type": "stream",
     "text": [
      "[]\n"
     ]
    }
   ],
   "source": [
    "db.purge()\n",
    "pattern_length_list = []\n",
    "print(db.all())"
   ]
  },
  {
   "cell_type": "code",
   "execution_count": 41,
   "metadata": {
    "collapsed": false
   },
   "outputs": [],
   "source": [
    "# def reference_dict(pattern_length, reference):\n",
    "#     for i, nucleotide in enumerate(reference):\n",
    "#         query = reference[i:i+pattern_length]\n",
    "#         query_number = pattern_to_number(query)\n",
    "#         if len(query) == pattern_length and query not in query_dict:\n",
    "#             query_dict[query]=str(i+1)+','\n",
    "#             #+1 because of 0 indexing. This will give teh actual start site of the pattern.\n",
    "#         elif len(query) == pattern_length:\n",
    "#             query_dict[query]+=str(i+1)+','\n",
    "            \n",
    "#     db.insert(query_dict)\n",
    "#     return (db.all())"
   ]
  },
  {
   "cell_type": "code",
   "execution_count": 42,
   "metadata": {
    "collapsed": true
   },
   "outputs": [],
   "source": [
    "def symbol_to_number(symbol):\n",
    "    dict_symbol = {'A':0, 'C':1, 'G':2, 'T':3}\n",
    "    return dict_symbol[symbol]\n",
    "\n",
    "def pattern_to_number(pattern):\n",
    "    pattern = pattern.upper().replace(\" \",\"\")\n",
    "    regex = re.compile('[^agctuAGCTU]')\n",
    "    pattern = regex.sub('', pattern)\n",
    "    if not pattern:\n",
    "        return 0\n",
    "    symbol = pattern[-1]\n",
    "    prefix = pattern[0:-1]\n",
    "    return 4*pattern_to_number(prefix) + symbol_to_number(symbol)"
   ]
  },
  {
   "cell_type": "code",
   "execution_count": null,
   "metadata": {
    "collapsed": true
   },
   "outputs": [],
   "source": []
  },
  {
   "cell_type": "code",
   "execution_count": null,
   "metadata": {
    "collapsed": true
   },
   "outputs": [],
   "source": []
  },
  {
   "cell_type": "code",
   "execution_count": null,
   "metadata": {
    "collapsed": true
   },
   "outputs": [],
   "source": []
  }
 ],
 "metadata": {
  "anaconda-cloud": {},
  "kernelspec": {
   "display_name": "Python [nov2016]",
   "language": "python",
   "name": "Python [nov2016]"
  },
  "language_info": {
   "codemirror_mode": {
    "name": "ipython",
    "version": 3
   },
   "file_extension": ".py",
   "mimetype": "text/x-python",
   "name": "python",
   "nbconvert_exporter": "python",
   "pygments_lexer": "ipython3",
   "version": "3.5.2"
  }
 },
 "nbformat": 4,
 "nbformat_minor": 0
}
