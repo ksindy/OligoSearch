{
 "cells": [
  {
   "cell_type": "markdown",
   "metadata": {},
   "source": [
    "## Oligo Search Website\n",
    "\n",
    "Here are the functions used for the search feature in my website.\n",
    "\n",
    "I have optimized them by comparing various python methods and code."
   ]
  },
  {
   "cell_type": "code",
   "execution_count": 1,
   "metadata": {},
   "outputs": [],
   "source": [
    "import xlrd\n",
    "oligo_sheet = (xlrd.open_workbook(\"kh_oligos.xlsx\")).sheet_by_index(0)\n",
    "reference = (open(\"reference.txt\")).read()"
   ]
  },
  {
   "cell_type": "code",
   "execution_count": 21,
   "metadata": {},
   "outputs": [],
   "source": [
    "def reverse_complement(text):\n",
    "    text = text[::-1].upper().replace(' ','')\n",
    "    reverse_complement_text = text.translate(str.maketrans('ACGT','TGCA'))\n",
    "    return reverse_complement_text\n",
    "\n",
    "\n",
    "def oligo_search(reference, oligo_sheet):\n",
    "    oligo_column = 2\n",
    "    reference = reference.upper().replace(' ','')\n",
    "    rc_reference = reverse_complement(reference)\n",
    "    matching_oligos = []\n",
    "\n",
    "    for i in range(oligo_sheet.nrows):\n",
    "        oligo = (oligo_sheet.cell_value(\n",
    "                    rowx=i,\n",
    "                    colx=oligo_column)\n",
    "                    .upper().replace(\" \",\"\"))\n",
    "        if i < oligo_sheet.nrows and oligo != \"\" and ((oligo in reference) or (oligo in rc_reference)):\n",
    "            matching_oligos.append(oligo_sheet.cell_value(rowx=i, colx=oligo_column-1))\n",
    "\n",
    "    if not matching_oligos:\n",
    "        return(\"No oligos match the reference.\")\n",
    "    else:\n",
    "        return(matching_oligos)\n",
    "\n",
    "\n",
    "oligo_search(reference, oligo_sheet)"
   ]
  },
  {
   "cell_type": "markdown",
   "metadata": {},
   "source": [
    "## Reverse compliment function.\n",
    "\n",
    "Python's maketrans() method was the quickest and most readable way to obtain the reverse compliment out of the five ways I tested. "
   ]
  },
  {
   "cell_type": "code",
   "execution_count": 22,
   "metadata": {},
   "outputs": [],
   "source": [
    "from timeit import timeit\n",
    "from Bio.Seq import Seq\n",
    "\n",
    "oligo = (oligo_sheet.cell_value(\n",
    "                    rowx=6,\n",
    "                    colx=2)\n",
    "                    .upper().replace(\" \",\"\"))\n",
    "print (oligo)"
   ]
  },
  {
   "cell_type": "code",
   "execution_count": 5,
   "metadata": {},
   "outputs": [
    {
     "data": {
      "text/plain": [
       "'AACGAACTGAGTAAAGTTAGAAGCCAT'"
      ]
     },
     "execution_count": 5,
     "output_type": "execute_result",
     "metadata": {}
    }
   ],
   "source": [
    "def reverse_complement_one(text):\n",
    "    text = text.upper().replace(' ','')\n",
    "    dict_basepair = {'G':'C', 'C':'G', 'A':'T', 'T':'A'}\n",
    "    reverse_complement_string = ''\n",
    "    for i, nucleotide in enumerate(text):\n",
    "        basepair = (text[((i+1)*-1)+len(text)])\n",
    "        if dict_basepair.get(basepair):\n",
    "            reverse_complement_string += dict_basepair.get(basepair)\n",
    "    return(reverse_complement_string)\n",
    "reverse_complement_one(oligo)"
   ]
  },
  {
   "cell_type": "code",
   "execution_count": 6,
   "metadata": {},
   "outputs": [
    {
     "data": {
      "text/plain": [
       "'AACGAACTGAGTAAAGTTAGAAGCCAT'"
      ]
     },
     "execution_count": 6,
     "output_type": "execute_result",
     "metadata": {}
    }
   ],
   "source": [
    "def reverse_complement_two(text):\n",
    "    text = text.upper().replace(' ','')\n",
    "    dict_basepair = {'G':'C', 'C':'G', 'A':'T', 'T':'A'}\n",
    "    reverse = (text[::-1])\n",
    "    reverse_complement_string = ''\n",
    "    for i in reverse:\n",
    "        if dict_basepair.get(i):\n",
    "            reverse_complement_string += dict_basepair.get(i)\n",
    "    return(reverse_complement_string)\n",
    "reverse_complement_two(oligo)"
   ]
  },
  {
   "cell_type": "code",
   "execution_count": 7,
   "metadata": {},
   "outputs": [
    {
     "data": {
      "text/plain": [
       "'AACGAACTGAGTAAAGTTAGAAGCCAT'"
      ]
     },
     "execution_count": 7,
     "output_type": "execute_result",
     "metadata": {}
    }
   ],
   "source": [
    "def reverse_complement_three(text):\n",
    "    text = text.upper().replace(' ','')\n",
    "    dict_basepair = {'G':'C', 'C':'G', 'A':'T', 'T':'A'}\n",
    "    reverse_complement_string = ''\n",
    "    for nucleotide in reversed(text):\n",
    "        if dict_basepair.get(nucleotide):\n",
    "            reverse_complement_string += dict_basepair.get(nucleotide)\n",
    "    return (reverse_complement_string)\n",
    "reverse_complement_three(oligo)"
   ]
  },
  {
   "cell_type": "code",
   "execution_count": 26,
   "metadata": {},
   "outputs": [],
   "source": [
    "def reverse_complement_four(text):\n",
    "    text = text[::-1].upper().replace(' ','')\n",
    "    reverse_complement_text = text.translate(str.maketrans('ACGT','TGCA'))\n",
    "    return reverse_complement_text\n",
    "reverse_complement_four(oligo)"
   ]
  },
  {
   "cell_type": "code",
   "execution_count": 27,
   "metadata": {},
   "outputs": [],
   "source": [
    "def reverse_complement_biopython(text):\n",
    "    sequence = Seq(text)\n",
    "    reverse_complement_sequence = Seq.reverse_complement(sequence)\n",
    "    return(reverse_complement_sequence)\n",
    "reverse_complement_biopython(oligo)"
   ]
  },
  {
   "cell_type": "markdown",
   "metadata": {},
   "source": [
    "## Timeit\n",
    "\n",
    "I used timeit to repeat each function 100,000 times."
   ]
  },
  {
   "cell_type": "code",
   "execution_count": 28,
   "metadata": {},
   "outputs": [],
   "source": [
    "print (\"reverse_complement_one:{}\".format(timeit(\n",
    "                                    \"reverse_complement_one(text)\",\n",
    "                                    \"from __main__ import reverse_complement_one;\"\n",
    "                                    \"text='A@GG GTTAG--TGACCAGCT! AG'\", number =100000)))\n",
    "print (\"reverse_complement_two:{}\".format(timeit(\n",
    "                                    \"reverse_complement_two(text)\",\n",
    "                                    \"from __main__ import reverse_complement_two;\"\n",
    "                                    \"text = 'A@GG GTTAG--TGACCAGCT! AG'\", number =100000)))\n",
    "print (\"reverse_complement_three:{}\".format(timeit(\n",
    "                                    \"reverse_complement_three(text)\",\n",
    "                                    \"from __main__ import reverse_complement_three;\"\n",
    "                                    \"text = 'A@GG GTTAG--TGACCAGCT! AG'\", number =100000)))\n",
    "print (\"reverse_complement_four:{}\".format(timeit(\n",
    "                                    \"reverse_complement_four(text)\",\n",
    "                                    \"from __main__ import reverse_complement_four;\"\n",
    "                                    \"text = 'A@GG GTTAG--TGACCAGCT! AG'\", number =100000)))\n",
    "print (\"reverse_complement_biopython:{}\".format(timeit(\n",
    "                                    \"reverse_complement_biopython(text)\",\n",
    "                                    \"from __main__ import reverse_complement_biopython;\"\n",
    "                                    \"text = 'A@GG GTTAG--TGACCAGCT! AG'\", number =100000)))"
   ]
  },
  {
   "cell_type": "markdown",
   "metadata": {},
   "source": [
    "## Oligo Search function\n",
    "\n",
    "I chose to use \"if pattern in text: do something\" because it was quick and best suited for it's role in this code. "
   ]
  },
  {
   "cell_type": "code",
   "execution_count": 29,
   "metadata": {},
   "outputs": [],
   "source": [
    "def pattern_search_one(text, pattern):\n",
    "    count = 0\n",
    "    for i, nucleotide in enumerate(text):\n",
    "        if text[i:i+len(pattern)] == pattern:\n",
    "            count += 1\n",
    "    return (count)\n",
    "pattern_search_one(reference, oligo)"
   ]
  },
  {
   "cell_type": "code",
   "execution_count": 31,
   "metadata": {},
   "outputs": [],
   "source": [
    "def pattern_search_two(text, pattern):\n",
    "    return (text.count(pattern))\n",
    "pattern_search_one(reference, oligo)"
   ]
  },
  {
   "cell_type": "code",
   "execution_count": 38,
   "metadata": {},
   "outputs": [],
   "source": [
    "def pattern_search_three(text, pattern):\n",
    "    match = []\n",
    "    if pattern in text:\n",
    "        match.append(oligo)\n",
    "    if not match:\n",
    "        return (\"No pattern found in text.\")\n",
    "    else:\n",
    "        return (\"Pattern found in text.\")\n",
    "pattern_search_three(reference, oligo)"
   ]
  },
  {
   "cell_type": "code",
   "execution_count": 35,
   "metadata": {},
   "outputs": [],
   "source": [
    "def pattern_search_four(text, pattern):\n",
    "    match = text.find(pattern)\n",
    "    if match > -1:\n",
    "        return (\"Pattern found in text.\")\n",
    "    else:\n",
    "        return (\"Pattern not found in text.\")\n",
    "pattern_search_four(reference, oligo)"
   ]
  },
  {
   "cell_type": "code",
   "execution_count": 46,
   "metadata": {},
   "outputs": [],
   "source": [
    "print (\"pattern_search_one:{}\".format(timeit(\n",
    "                                    \"pattern_search_one(text, pattern)\",\n",
    "                                    \"from __main__ import pattern_search_one;\"\n",
    "                                    \"text='TGATTCCGGCGGGCGTGGAGAAGCGAGATTCATTCAAGCCGGGAGGCGTGGCGTGGCGTGGCGTGCGGATTCAAGCCGGCGGG';\"\n",
    "                                    \"pattern='TTCCGG' \", number =100000)))\n",
    "\n",
    "print (\"pattern_search_two:{}\".format(timeit(\n",
    "                                    \"pattern_search_two(text, pattern)\",\n",
    "                                    \"from __main__ import pattern_search_two;\"\n",
    "                                    \"text='TGATTCCGGCGGGCGTGGAGAAGCGAGATTCATTCAAGCCGGGAGGCGTGGCGTGGCGTGGCGTGCGGATTCAAGCCGGCGGG';\"\n",
    "                                    \"pattern='TTCCGG' \", number =100000)))\n",
    "\n",
    "print (\"pattern_search_three:{}\".format(timeit(\n",
    "                                    \"pattern_search_three(text, pattern)\",\n",
    "                                    \"from __main__ import pattern_search_three;\"\n",
    "                                    \"text='TGATTCCGGCGGGCGTGGAGAAGCGAGATTCATTCAAGCCGGGAGGCGTGGCGTGGCGTGGCGTGCGGATTCAAGCCGGCGGG';\"\n",
    "                                    \"pattern='TTCCGG' \", number =100000)))\n",
    "\n",
    "print (\"pattern_search_four:{}\".format(timeit(\n",
    "                                    \"pattern_search_four(text, pattern)\",\n",
    "                                    \"from __main__ import pattern_search_four;\"\n",
    "                                    \"text='TGATTCCGGCGGGCGTGGAGAAGCGAGATTCATTCAAGCCGGGAGGCGTGGCGTGGCGTGGCGTGCGGATTCAAGCCGGCGGG';\"\n",
    "                                    \"pattern='TTCCGG' \", number =100000)))"
   ]
  },
  {
   "cell_type": "markdown",
   "metadata": {},
   "source": [
    "## Oligo Search Locations\n",
    "\n",
    "In the future I may want to incorporate the location of the oligo in the reference. I found regular expressions to be the best way to do this. "
   ]
  },
  {
   "cell_type": "code",
   "execution_count": 39,
   "metadata": {},
   "outputs": [],
   "source": [
    "import re"
   ]
  },
  {
   "cell_type": "code",
   "execution_count": 40,
   "metadata": {},
   "outputs": [],
   "source": [
    "def pattern_find_one(text, pattern):\n",
    "    list = []\n",
    "    for i, nucleotide in enumerate(text):\n",
    "        if text[i:i+len(pattern)] == pattern:\n",
    "            list.append(i)\n",
    "    return (list)\n",
    "pattern_find_one(reference, oligo)"
   ]
  },
  {
   "cell_type": "code",
   "execution_count": 41,
   "metadata": {},
   "outputs": [],
   "source": [
    "def pattern_find_two(text,pattern):\n",
    "    matches = re.finditer('(?={0})'.format(pattern),text)\n",
    "    positions = [str(match.start()) for match in matches]\n",
    "    result = ' '.join(positions)\n",
    "    return(result)\n",
    "pattern_find_two(reference, oligo)"
   ]
  },
  {
   "cell_type": "code",
   "execution_count": 42,
   "metadata": {},
   "outputs": [
    {
     "data": {
      "text/plain": [
       "[12, 59]"
      ]
     },
     "execution_count": 42,
     "output_type": "execute_result",
     "metadata": {}
    }
   ],
   "source": [
    "def pattern_find_three(text,pattern):\n",
    "    results = []\n",
    "    regex_pattern = re.compile('(?={0})'.format(pattern))\n",
    "    matches = regex_pattern.finditer(text)\n",
    "    for match in matches:\n",
    "        results.append(match.start())\n",
    "    return(results)\n",
    "pattern_find_three(reference, oligo)"
   ]
  },
  {
   "cell_type": "code",
   "execution_count": 45,
   "metadata": {},
   "outputs": [
    {
     "name": "stdout",
     "output_type": "stream",
     "text": [
      "pattern_find_one:4.370878521993291\n",
      "pattern_find_two:1.415826846001437\n",
      "pattern_find_three:1.4113261079764925\n"
     ]
    }
   ],
   "source": [
    "print (\"pattern_find_one:{}\".format(timeit(\n",
    "                                    \"pattern_find_one(text, pattern)\",\n",
    "                                    \"from __main__ import pattern_find_one;\"\n",
    "                                    \"text='TGATTCCGGCGGGCGTGGAGAAGCGAGATTCATTCAAGCCGGGAGGCGTGGCGTGGCGTGGCGTGCGGATTCAAGCCGGCGGG';\"\n",
    "                                    \"pattern='TTCCGG' \", number =100000)))\n",
    "\n",
    "print (\"pattern_find_two:{}\".format(timeit(\n",
    "                                    \"pattern_find_two(text, pattern)\",\n",
    "                                    \"from __main__ import pattern_find_two;\"\n",
    "                                    \"text='TGATTCCGGCGGGCGTGGAGAAGCGAGATTCATTCAAGCCGGGAGGCGTGGCGTGGCGTGGCGTGCGGATTCAAGCCGGCGGG';\"\n",
    "                                    \"pattern='TTCCGG' \", number =100000)))\n",
    "\n",
    "print (\"pattern_find_three:{}\".format(timeit(\n",
    "                                    \"pattern_find_three(text, pattern)\",\n",
    "                                    \"from __main__ import pattern_find_three;\"\n",
    "                                    \"text='TGATTCCGGCGGGCGTGGAGAAGCGAGATTCATTCAAGCCGGGAGGCGTGGCGTGGCGTGGCGTGCGGATTCAAGCCGGCGGG';\"\n",
    "                                    \"pattern='TTCCGG' \", number =100000)))"
   ]
  }
 ],
 "metadata": {
  "kernelspec": {
   "display_name": "Python 3",
   "language": "python",
   "name": "python3"
  },
  "language_info": {
   "codemirror_mode": {
    "name": "ipython",
    "version": 3.0
   },
   "file_extension": ".py",
   "mimetype": "text/x-python",
   "name": "python",
   "nbconvert_exporter": "python",
   "pygments_lexer": "ipython3",
   "version": "3.5.1"
  }
 },
 "nbformat": 4,
 "nbformat_minor": 0
}