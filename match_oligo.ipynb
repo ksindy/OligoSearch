{
 "cells": [
  {
   "cell_type": "code",
   "execution_count": null,
   "metadata": {},
   "outputs": [],
   "source": [
    "import xlrd\n",
    "oligo_sheet = (xlrd.open_workbook(\"kh_oligos.xlsx\")).sheet_by_index(0)\n",
    "reference = (open(\"reference.txt\")).read()\n",
    "\n",
    "\n",
    "def reverse_complement(text):\n",
    "    text = text[::-1].upper().replace(' ','')\n",
    "    reverse_complement_text = text.translate(str.maketrans('ACGT','TGCA'))\n",
    "    return reverse_complement_text\n",
    "\n",
    "\n",
    "def oligo_search(reference, oligo_sheet):\n",
    "    oligo_column = 2\n",
    "    reference = reference.upper().replace(' ','')\n",
    "    rc_reference = reverse_complement(reference)\n",
    "    matching_oligos = []\n",
    "\n",
    "    for i in range(oligo_sheet.nrows):\n",
    "        oligo = (oligo_sheet.cell_value(\n",
    "                    rowx=i,\n",
    "                    colx=oligo_column)\n",
    "                    .upper().replace(\" \",\"\"))\n",
    "        if i < oligo_sheet.nrows and oligo != \"\" and ((oligo in reference) or (oligo in rc_reference)):\n",
    "            matching_oligos.append(oligo_sheet.cell_value(rowx=i, colx=oligo_column-1))\n",
    "\n",
    "    if not matching_oligos:\n",
    "        return(\"No oligos match the reference.\")\n",
    "    else:\n",
    "        return(matching_oligos)\n",
    "\n",
    "\n",
    "print(oligo_search(reference, oligo_sheet))"
   ]
  },
  {
   "cell_type": "code",
   "execution_count": null,
   "metadata": {},
   "outputs": [],
   "source": [
    ""
   ]
  }
 ],
 "metadata": {},
 "nbformat": 4,
 "nbformat_minor": 0
}